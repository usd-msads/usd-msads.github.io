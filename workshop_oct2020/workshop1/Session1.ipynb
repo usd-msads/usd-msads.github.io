{
 "cells": [
  {
   "cell_type": "code",
   "execution_count": 35,
   "metadata": {},
   "outputs": [],
   "source": [
    "# This bit of code suppresses warnings that can be thrown in our code blocks. I wouldn't recommend using this function unless you have a specific reason to. \n",
    "import warnings\n",
    "warnings.filterwarnings('ignore')"
   ]
  },
  {
   "cell_type": "markdown",
   "metadata": {},
   "source": [
    "___"
   ]
  },
  {
   "cell_type": "markdown",
   "metadata": {},
   "source": [
    "# Data Science for Good - Session 1 - Introduction to Data Science with Python"
   ]
  },
  {
   "cell_type": "markdown",
   "metadata": {},
   "source": [
    "*Created by Dillon Orr for use in \"Data Science for Good,\" a workshop presented in partnership with University of San Diego and San Diego Tech Hub. Dataset originates from the City of San Diego Open Data Portal's police stops data, collected in compliance with the Racial and Identity Profiling Act implemented in 2018.* \n",
    "\n",
    "*SD Data Portal: https://data.sandiego.gov/*\n",
    "\n",
    "*More information on RIPA: https://post.ca.gov/Racial-and-Identity-Profiling-Act*"
   ]
  },
  {
   "cell_type": "markdown",
   "metadata": {},
   "source": [
    "___"
   ]
  },
  {
   "cell_type": "markdown",
   "metadata": {},
   "source": [
    "# JupyterLab Basics\n",
    "https://jupyterlab.readthedocs.io/en/stable/user/interface.html"
   ]
  },
  {
   "cell_type": "markdown",
   "metadata": {},
   "source": [
    "## The Interface\n",
    "Let's take a look around..."
   ]
  },
  {
   "cell_type": "markdown",
   "metadata": {},
   "source": [
    "## Cells"
   ]
  },
  {
   "cell_type": "code",
   "execution_count": 3,
   "metadata": {},
   "outputs": [
    {
     "name": "stdout",
     "output_type": "stream",
     "text": [
      "1\n",
      "2\n",
      "3\n"
     ]
    }
   ],
   "source": [
    "# This is a code cell/block!\n",
    "\n",
    "for x in [1,2,3]:\n",
    "    print(x)"
   ]
  },
  {
   "cell_type": "markdown",
   "metadata": {},
   "source": [
    "This is a markdown cell!\n",
    "### hello\n",
    "*hello*  \n",
    "**hello**\n",
    "* hello\n",
    "1. hello\n",
    "\n",
    "Here's a guide for syntax: https://www.markdownguide.org/basic-syntax/"
   ]
  },
  {
   "cell_type": "markdown",
   "metadata": {},
   "source": [
    "# Python Basics\n",
    "Python is a dynamic, high level programming language originally released in 1991 that has been steadily gaining popularity in the Data Science community since the early 2010s."
   ]
  },
  {
   "cell_type": "markdown",
   "metadata": {},
   "source": [
    "## Simple Math"
   ]
  },
  {
   "cell_type": "markdown",
   "metadata": {},
   "source": [
    "Python can compute math functions inline, for example:"
   ]
  },
  {
   "cell_type": "code",
   "execution_count": 4,
   "metadata": {},
   "outputs": [
    {
     "data": {
      "text/plain": [
       "4"
      ]
     },
     "execution_count": 4,
     "metadata": {},
     "output_type": "execute_result"
    }
   ],
   "source": [
    "2+2"
   ]
  },
  {
   "cell_type": "markdown",
   "metadata": {},
   "source": [
    "Be careful to use your order of operations correctly! "
   ]
  },
  {
   "cell_type": "code",
   "execution_count": 5,
   "metadata": {},
   "outputs": [
    {
     "data": {
      "text/plain": [
       "False"
      ]
     },
     "execution_count": 5,
     "metadata": {},
     "output_type": "execute_result"
    }
   ],
   "source": [
    "1+3*10 == (1+3)*10"
   ]
  },
  {
   "cell_type": "markdown",
   "metadata": {},
   "source": [
    "## Strings"
   ]
  },
  {
   "cell_type": "markdown",
   "metadata": {},
   "source": [
    "Strings in Python are arrays of bytes. If we want to create a string, use the following notation:"
   ]
  },
  {
   "cell_type": "code",
   "execution_count": 8,
   "metadata": {},
   "outputs": [],
   "source": [
    "pasta = 'spaghetti'"
   ]
  },
  {
   "cell_type": "markdown",
   "metadata": {},
   "source": [
    "When assigning values to variables, Jupyter will not output the result. For that, we'll have to use Python's print() function"
   ]
  },
  {
   "cell_type": "code",
   "execution_count": 9,
   "metadata": {},
   "outputs": [
    {
     "data": {
      "text/plain": [
       "'spaghetti'"
      ]
     },
     "execution_count": 9,
     "metadata": {},
     "output_type": "execute_result"
    }
   ],
   "source": [
    "pasta"
   ]
  },
  {
   "cell_type": "markdown",
   "metadata": {},
   "source": [
    "## Dictionaries"
   ]
  },
  {
   "cell_type": "markdown",
   "metadata": {},
   "source": [
    "Dictionaries are unordered collections of objects that are indexed by keys. These can be thought of as precursors to DataFrames, which we will work with shortly. "
   ]
  },
  {
   "cell_type": "code",
   "execution_count": 10,
   "metadata": {},
   "outputs": [],
   "source": [
    "shape = {\n",
    "    'color': 'purple',\n",
    "    'type': 'rectangle',\n",
    "    'width': 10,\n",
    "    'length': 15\n",
    "}"
   ]
  },
  {
   "cell_type": "markdown",
   "metadata": {},
   "source": [
    "Jupyter can guess that we want to see the value of the shape at key 'color' without calling the print() function. With multiple assignments and calls, we'll want to explicity call print() to ensure we're seeing what we want to see.  "
   ]
  },
  {
   "cell_type": "code",
   "execution_count": 13,
   "metadata": {},
   "outputs": [
    {
     "data": {
      "text/plain": [
       "'purple'"
      ]
     },
     "execution_count": 13,
     "metadata": {},
     "output_type": "execute_result"
    }
   ],
   "source": [
    "shape['color']"
   ]
  },
  {
   "cell_type": "markdown",
   "metadata": {},
   "source": [
    "## The \"print()\" Function"
   ]
  },
  {
   "cell_type": "markdown",
   "metadata": {},
   "source": [
    "Like in many languages, print() is used to output information to the console."
   ]
  },
  {
   "cell_type": "code",
   "execution_count": 14,
   "metadata": {},
   "outputs": [
    {
     "name": "stdout",
     "output_type": "stream",
     "text": [
      "Hello, world!\n"
     ]
    }
   ],
   "source": [
    "print('Hello, world!')"
   ]
  },
  {
   "cell_type": "markdown",
   "metadata": {},
   "source": [
    "We can use the print function to pull information from our above dictionary like this:"
   ]
  },
  {
   "cell_type": "code",
   "execution_count": 15,
   "metadata": {},
   "outputs": [
    {
     "name": "stdout",
     "output_type": "stream",
     "text": [
      "The color of this shape is:  purple\n",
      "This shape is of type:  rectangle\n"
     ]
    }
   ],
   "source": [
    "print('The color of this shape is: ', shape['color'])\n",
    "print('This shape is of type: ', shape['type'])"
   ]
  },
  {
   "cell_type": "markdown",
   "metadata": {},
   "source": [
    "The comma separates values in the function and prints them sequentially. A new print statement includes a newline. "
   ]
  },
  {
   "cell_type": "markdown",
   "metadata": {},
   "source": [
    "## Lists vs. Arrays"
   ]
  },
  {
   "cell_type": "markdown",
   "metadata": {},
   "source": [
    "If we want to create a list of integers, we can use the following notation:"
   ]
  },
  {
   "cell_type": "code",
   "execution_count": 16,
   "metadata": {},
   "outputs": [
    {
     "data": {
      "text/plain": [
       "[1, 2, 3, 4, 5]"
      ]
     },
     "execution_count": 16,
     "metadata": {},
     "output_type": "execute_result"
    }
   ],
   "source": [
    "myList = [1,2,3,4,5]\n",
    "\n",
    "myList"
   ]
  },
  {
   "cell_type": "markdown",
   "metadata": {},
   "source": [
    "Often, a list will do just fine, since lists are basically dynamic arrays. However, if you are planning on doing math with your list, an array is more appropriate. To build an array, I recommend we use a helpful package called NumPy."
   ]
  },
  {
   "cell_type": "markdown",
   "metadata": {},
   "source": [
    "## Selecting From a List"
   ]
  },
  {
   "cell_type": "markdown",
   "metadata": {},
   "source": [
    "If we want to select a certain member of the list, we can call the array and the position of the item we wish to pull. Take a look:"
   ]
  },
  {
   "cell_type": "code",
   "execution_count": 19,
   "metadata": {},
   "outputs": [
    {
     "data": {
      "text/plain": [
       "2"
      ]
     },
     "execution_count": 19,
     "metadata": {},
     "output_type": "execute_result"
    }
   ],
   "source": [
    "myList[1]"
   ]
  },
  {
   "cell_type": "markdown",
   "metadata": {},
   "source": [
    "*The 1st member of the list myList is 2, not 1. Why is this?*"
   ]
  },
  {
   "cell_type": "markdown",
   "metadata": {},
   "source": [
    "# Modules, Libraries, & Packages"
   ]
  },
  {
   "cell_type": "markdown",
   "metadata": {},
   "source": [
    "A Python package is a collection of modules, single .py files that can be imported into a user's Python environment for use. Modules often contain functions that can be called without having to be declared in the user's workspace. "
   ]
  },
  {
   "cell_type": "markdown",
   "metadata": {},
   "source": [
    "## NumPy & Arrays"
   ]
  },
  {
   "cell_type": "markdown",
   "metadata": {},
   "source": [
    "NumPy, or Numerical Python, is a Python package included with our Anaconda distribution. In order to use it, we'll have to import it and give it a name. "
   ]
  },
  {
   "cell_type": "code",
   "execution_count": 20,
   "metadata": {},
   "outputs": [],
   "source": [
    "# Importing the package into our session and giving it the alias \"np\". (You can import packages without naming them but this can get confusing quickly)\n",
    "import numpy as np"
   ]
  },
  {
   "cell_type": "markdown",
   "metadata": {},
   "source": [
    "Now that we have the NumPy package imported, let's use it to create an array. "
   ]
  },
  {
   "cell_type": "code",
   "execution_count": 23,
   "metadata": {},
   "outputs": [
    {
     "data": {
      "text/plain": [
       "array([1, 2, 3, 4, 5])"
      ]
     },
     "execution_count": 23,
     "metadata": {},
     "output_type": "execute_result"
    }
   ],
   "source": [
    "myArray = np.array([1,2,3,4,5])\n",
    "\n",
    "myArray"
   ]
  },
  {
   "cell_type": "markdown",
   "metadata": {},
   "source": [
    "With our array defined, we can use math on it! "
   ]
  },
  {
   "cell_type": "code",
   "execution_count": 25,
   "metadata": {},
   "outputs": [
    {
     "data": {
      "text/plain": [
       "array([ 3,  6,  9, 12, 15])"
      ]
     },
     "execution_count": 25,
     "metadata": {},
     "output_type": "execute_result"
    }
   ],
   "source": [
    "myArrayMult = myArray * 3\n",
    "\n",
    "myArrayMult"
   ]
  },
  {
   "cell_type": "markdown",
   "metadata": {},
   "source": [
    "If we want to pull an item from a NumPy array, we'll use the same syntax as a list. "
   ]
  },
  {
   "cell_type": "code",
   "execution_count": 28,
   "metadata": {},
   "outputs": [
    {
     "data": {
      "text/plain": [
       "12"
      ]
     },
     "execution_count": 28,
     "metadata": {},
     "output_type": "execute_result"
    }
   ],
   "source": [
    "myArrayMult[3]"
   ]
  },
  {
   "cell_type": "markdown",
   "metadata": {},
   "source": [
    "## Getting Help"
   ]
  },
  {
   "cell_type": "markdown",
   "metadata": {},
   "source": [
    "If you have questions about a built-in function in Python, you can use the following notation:"
   ]
  },
  {
   "cell_type": "code",
   "execution_count": 32,
   "metadata": {},
   "outputs": [
    {
     "name": "stdout",
     "output_type": "stream",
     "text": [
      "Help on built-in function print in module builtins:\n",
      "\n",
      "print(...)\n",
      "    print(value, ..., sep=' ', end='\\n', file=sys.stdout, flush=False)\n",
      "    \n",
      "    Prints the values to a stream, or to sys.stdout by default.\n",
      "    Optional keyword arguments:\n",
      "    file:  a file-like object (stream); defaults to the current sys.stdout.\n",
      "    sep:   string inserted between values, default a space.\n",
      "    end:   string appended after the last value, default a newline.\n",
      "    flush: whether to forcibly flush the stream.\n",
      "\n"
     ]
    }
   ],
   "source": [
    "help(print)"
   ]
  },
  {
   "cell_type": "markdown",
   "metadata": {},
   "source": [
    "The official Python Tutorial is hosted here:\n",
    "https://docs.python.org/3/tutorial/"
   ]
  },
  {
   "cell_type": "markdown",
   "metadata": {},
   "source": [
    "# Bringing Data Into Our Environment"
   ]
  },
  {
   "cell_type": "markdown",
   "metadata": {},
   "source": [
    "Alright, let's jump into our dataset!"
   ]
  },
  {
   "cell_type": "markdown",
   "metadata": {},
   "source": [
    "## Pandas"
   ]
  },
  {
   "cell_type": "markdown",
   "metadata": {},
   "source": [
    "Pandas is a key package used for the creation and manipulation of DataFrames in Python. A DataFrame is a set of arrays arranged in tabular format that are ordered by an index. "
   ]
  },
  {
   "cell_type": "code",
   "execution_count": 33,
   "metadata": {},
   "outputs": [],
   "source": [
    "# import necessary package\n",
    "import pandas as pd"
   ]
  },
  {
   "cell_type": "markdown",
   "metadata": {},
   "source": [
    "### Import CSV File"
   ]
  },
  {
   "cell_type": "markdown",
   "metadata": {},
   "source": [
    "Locate the policeStopsData.csv file in your Session1 folder to the left. This is the file we'll be importing into Jupyter. "
   ]
  },
  {
   "cell_type": "code",
   "execution_count": 36,
   "metadata": {},
   "outputs": [],
   "source": [
    "# create object df of type Pandas DataFrame from csv policeStopsData.csv in working directory\n",
    "df = pd.read_csv(r'policeStopsData.csv')"
   ]
  },
  {
   "cell_type": "markdown",
   "metadata": {},
   "source": [
    "### pandas.DataFrame.head\n",
    "https://pandas.pydata.org/pandas-docs/stable/reference/api/pandas.DataFrame.head.html"
   ]
  },
  {
   "cell_type": "markdown",
   "metadata": {},
   "source": [
    "The head(x) function allows us to view the first x rows the dataset. Without a value for x, head() defaults to 5. "
   ]
  },
  {
   "cell_type": "code",
   "execution_count": 39,
   "metadata": {},
   "outputs": [
    {
     "data": {
      "text/html": [
       "<div>\n",
       "<style scoped>\n",
       "    .dataframe tbody tr th:only-of-type {\n",
       "        vertical-align: middle;\n",
       "    }\n",
       "\n",
       "    .dataframe tbody tr th {\n",
       "        vertical-align: top;\n",
       "    }\n",
       "\n",
       "    .dataframe thead th {\n",
       "        text-align: right;\n",
       "    }\n",
       "</style>\n",
       "<table border=\"1\" class=\"dataframe\">\n",
       "  <thead>\n",
       "    <tr style=\"text-align: right;\">\n",
       "      <th></th>\n",
       "      <th>stop_id</th>\n",
       "      <th>date_stop</th>\n",
       "      <th>time_stop</th>\n",
       "      <th>stop_duration</th>\n",
       "      <th>stop_in_response_to_cfs</th>\n",
       "      <th>address_city</th>\n",
       "      <th>beat</th>\n",
       "      <th>beat_name</th>\n",
       "      <th>highway_exit</th>\n",
       "      <th>address_street</th>\n",
       "      <th>...</th>\n",
       "      <th>action</th>\n",
       "      <th>consented</th>\n",
       "      <th>basis_for_search</th>\n",
       "      <th>basis_for_search_explanation</th>\n",
       "      <th>basis_for_property_seizure</th>\n",
       "      <th>type_of_property_seized</th>\n",
       "      <th>result_key</th>\n",
       "      <th>result</th>\n",
       "      <th>code</th>\n",
       "      <th>result_text</th>\n",
       "    </tr>\n",
       "  </thead>\n",
       "  <tbody>\n",
       "    <tr>\n",
       "      <th>0</th>\n",
       "      <td>2443</td>\n",
       "      <td>2018-07-01</td>\n",
       "      <td>00:01:37</td>\n",
       "      <td>30</td>\n",
       "      <td>0</td>\n",
       "      <td>SAN DIEGO</td>\n",
       "      <td>122</td>\n",
       "      <td>Pacific Beach 122</td>\n",
       "      <td>NaN</td>\n",
       "      <td>Grand Avenue</td>\n",
       "      <td>...</td>\n",
       "      <td>None</td>\n",
       "      <td>NaN</td>\n",
       "      <td>NaN</td>\n",
       "      <td>NaN</td>\n",
       "      <td>NaN</td>\n",
       "      <td>NaN</td>\n",
       "      <td>6</td>\n",
       "      <td>Custodial Arrest without warrant</td>\n",
       "      <td>64005.0</td>\n",
       "      <td>647(F) PC - DISORD CONDUCT:ALCOHOL (M) 64005</td>\n",
       "    </tr>\n",
       "    <tr>\n",
       "      <th>1</th>\n",
       "      <td>2444</td>\n",
       "      <td>2018-07-01</td>\n",
       "      <td>00:03:34</td>\n",
       "      <td>10</td>\n",
       "      <td>0</td>\n",
       "      <td>SAN DIEGO</td>\n",
       "      <td>121</td>\n",
       "      <td>Mission Beach 121</td>\n",
       "      <td>NaN</td>\n",
       "      <td>NOBEL DRIVE</td>\n",
       "      <td>...</td>\n",
       "      <td>None</td>\n",
       "      <td>NaN</td>\n",
       "      <td>NaN</td>\n",
       "      <td>NaN</td>\n",
       "      <td>NaN</td>\n",
       "      <td>NaN</td>\n",
       "      <td>2</td>\n",
       "      <td>Warning (verbal or written)</td>\n",
       "      <td>54395.0</td>\n",
       "      <td>22349(B) VC - EXC 55MPH SPEED:2 LANE RD (I) 54395</td>\n",
       "    </tr>\n",
       "    <tr>\n",
       "      <th>2</th>\n",
       "      <td>2447</td>\n",
       "      <td>2018-07-01</td>\n",
       "      <td>00:05:43</td>\n",
       "      <td>15</td>\n",
       "      <td>1</td>\n",
       "      <td>SAN DIEGO</td>\n",
       "      <td>822</td>\n",
       "      <td>El Cerrito 822</td>\n",
       "      <td>NaN</td>\n",
       "      <td>59th Street</td>\n",
       "      <td>...</td>\n",
       "      <td>Curbside detention</td>\n",
       "      <td>NaN</td>\n",
       "      <td>NaN</td>\n",
       "      <td>NaN</td>\n",
       "      <td>NaN</td>\n",
       "      <td>NaN</td>\n",
       "      <td>1</td>\n",
       "      <td>No Action</td>\n",
       "      <td>0.0</td>\n",
       "      <td>NaN</td>\n",
       "    </tr>\n",
       "    <tr>\n",
       "      <th>3</th>\n",
       "      <td>2447</td>\n",
       "      <td>2018-07-01</td>\n",
       "      <td>00:05:43</td>\n",
       "      <td>15</td>\n",
       "      <td>1</td>\n",
       "      <td>SAN DIEGO</td>\n",
       "      <td>822</td>\n",
       "      <td>El Cerrito 822</td>\n",
       "      <td>NaN</td>\n",
       "      <td>59th Street</td>\n",
       "      <td>...</td>\n",
       "      <td>Curbside detention</td>\n",
       "      <td>NaN</td>\n",
       "      <td>NaN</td>\n",
       "      <td>NaN</td>\n",
       "      <td>NaN</td>\n",
       "      <td>NaN</td>\n",
       "      <td>1</td>\n",
       "      <td>No Action</td>\n",
       "      <td>0.0</td>\n",
       "      <td>NaN</td>\n",
       "    </tr>\n",
       "    <tr>\n",
       "      <th>4</th>\n",
       "      <td>2448</td>\n",
       "      <td>2018-07-01</td>\n",
       "      <td>00:19:06</td>\n",
       "      <td>5</td>\n",
       "      <td>0</td>\n",
       "      <td>SAN DIEGO</td>\n",
       "      <td>614</td>\n",
       "      <td>Ocean Beach 614</td>\n",
       "      <td>NaN</td>\n",
       "      <td>NIAGARA AVE</td>\n",
       "      <td>...</td>\n",
       "      <td>None</td>\n",
       "      <td>NaN</td>\n",
       "      <td>NaN</td>\n",
       "      <td>NaN</td>\n",
       "      <td>NaN</td>\n",
       "      <td>NaN</td>\n",
       "      <td>1</td>\n",
       "      <td>No Action</td>\n",
       "      <td>0.0</td>\n",
       "      <td>NaN</td>\n",
       "    </tr>\n",
       "  </tbody>\n",
       "</table>\n",
       "<p>5 rows × 47 columns</p>\n",
       "</div>"
      ],
      "text/plain": [
       "   stop_id   date_stop time_stop  stop_duration  stop_in_response_to_cfs  \\\n",
       "0     2443  2018-07-01  00:01:37             30                        0   \n",
       "1     2444  2018-07-01  00:03:34             10                        0   \n",
       "2     2447  2018-07-01  00:05:43             15                        1   \n",
       "3     2447  2018-07-01  00:05:43             15                        1   \n",
       "4     2448  2018-07-01  00:19:06              5                        0   \n",
       "\n",
       "  address_city  beat          beat_name highway_exit address_street  ...  \\\n",
       "0    SAN DIEGO   122  Pacific Beach 122          NaN   Grand Avenue  ...   \n",
       "1    SAN DIEGO   121  Mission Beach 121          NaN    NOBEL DRIVE  ...   \n",
       "2    SAN DIEGO   822     El Cerrito 822          NaN    59th Street  ...   \n",
       "3    SAN DIEGO   822     El Cerrito 822          NaN    59th Street  ...   \n",
       "4    SAN DIEGO   614    Ocean Beach 614          NaN    NIAGARA AVE  ...   \n",
       "\n",
       "               action  consented basis_for_search  \\\n",
       "0                None        NaN              NaN   \n",
       "1                None        NaN              NaN   \n",
       "2  Curbside detention        NaN              NaN   \n",
       "3  Curbside detention        NaN              NaN   \n",
       "4                None        NaN              NaN   \n",
       "\n",
       "   basis_for_search_explanation basis_for_property_seizure  \\\n",
       "0                           NaN                        NaN   \n",
       "1                           NaN                        NaN   \n",
       "2                           NaN                        NaN   \n",
       "3                           NaN                        NaN   \n",
       "4                           NaN                        NaN   \n",
       "\n",
       "  type_of_property_seized result_key                            result  \\\n",
       "0                     NaN          6  Custodial Arrest without warrant   \n",
       "1                     NaN          2       Warning (verbal or written)   \n",
       "2                     NaN          1                         No Action   \n",
       "3                     NaN          1                         No Action   \n",
       "4                     NaN          1                         No Action   \n",
       "\n",
       "      code                                        result_text  \n",
       "0  64005.0       647(F) PC - DISORD CONDUCT:ALCOHOL (M) 64005  \n",
       "1  54395.0  22349(B) VC - EXC 55MPH SPEED:2 LANE RD (I) 54395  \n",
       "2      0.0                                                NaN  \n",
       "3      0.0                                                NaN  \n",
       "4      0.0                                                NaN  \n",
       "\n",
       "[5 rows x 47 columns]"
      ]
     },
     "execution_count": 39,
     "metadata": {},
     "output_type": "execute_result"
    }
   ],
   "source": [
    "df.head()"
   ]
  },
  {
   "cell_type": "markdown",
   "metadata": {},
   "source": [
    "*Note: The \".tail()\" function behaves almost identically to .head(), except it returns the last x rows of the dataset.*"
   ]
  },
  {
   "cell_type": "markdown",
   "metadata": {},
   "source": [
    "### pandas.DataFrame.columns  \n",
    "https://pandas.pydata.org/pandas-docs/stable/reference/api/pandas.DataFrame.columns.html  \n",
    "\".columns\" allows us to see a list of all columns, or variables in the dataset.  \n"
   ]
  },
  {
   "cell_type": "code",
   "execution_count": 41,
   "metadata": {},
   "outputs": [
    {
     "data": {
      "text/plain": [
       "Index(['stop_id', 'date_stop', 'time_stop', 'stop_duration',\n",
       "       'stop_in_response_to_cfs', 'address_city', 'beat', 'beat_name',\n",
       "       'highway_exit', 'address_street', 'intersection', 'address_block',\n",
       "       'landmark', 'is_school', 'school_name', 'ori', 'agency',\n",
       "       'officer_assignment_key', 'assignment', 'exp_years', 'pid',\n",
       "       'is_student', 'perceived_limited_english', 'perceived_age', 'gender2',\n",
       "       'perceived_gender', 'gender_nc', 'gender_non_conforming', 'gender',\n",
       "       'perceived_lgbt', 'race', 'disability', 'reason_for_stop_code',\n",
       "       'reason_for_stop_code_text', 'reason_for_stop',\n",
       "       'reason_for_stop_detail', 'reason_for_stop_explanation', 'action',\n",
       "       'consented', 'basis_for_search', 'basis_for_search_explanation',\n",
       "       'basis_for_property_seizure', 'type_of_property_seized', 'result_key',\n",
       "       'result', 'code', 'result_text'],\n",
       "      dtype='object')"
      ]
     },
     "execution_count": 41,
     "metadata": {},
     "output_type": "execute_result"
    }
   ],
   "source": [
    "df.columns"
   ]
  },
  {
   "cell_type": "markdown",
   "metadata": {},
   "source": [
    "## Sorting"
   ]
  },
  {
   "cell_type": "markdown",
   "metadata": {},
   "source": [
    "Sorting the DataFrame by column name is helpful to keep all of our variables organized. This can also help us identify similarly named variables that we may need to deal with. "
   ]
  },
  {
   "cell_type": "code",
   "execution_count": 42,
   "metadata": {},
   "outputs": [
    {
     "data": {
      "text/plain": [
       "Index(['action', 'address_block', 'address_city', 'address_street', 'agency',\n",
       "       'assignment', 'basis_for_property_seizure', 'basis_for_search',\n",
       "       'basis_for_search_explanation', 'beat', 'beat_name', 'code',\n",
       "       'consented', 'date_stop', 'disability', 'exp_years', 'gender',\n",
       "       'gender2', 'gender_nc', 'gender_non_conforming', 'highway_exit',\n",
       "       'intersection', 'is_school', 'is_student', 'landmark',\n",
       "       'officer_assignment_key', 'ori', 'perceived_age', 'perceived_gender',\n",
       "       'perceived_lgbt', 'perceived_limited_english', 'pid', 'race',\n",
       "       'reason_for_stop', 'reason_for_stop_code', 'reason_for_stop_code_text',\n",
       "       'reason_for_stop_detail', 'reason_for_stop_explanation', 'result',\n",
       "       'result_key', 'result_text', 'school_name', 'stop_duration', 'stop_id',\n",
       "       'stop_in_response_to_cfs', 'time_stop', 'type_of_property_seized'],\n",
       "      dtype='object')"
      ]
     },
     "execution_count": 42,
     "metadata": {},
     "output_type": "execute_result"
    }
   ],
   "source": [
    "df = df.reindex(sorted(df.columns), axis=1)\n",
    "df.columns"
   ]
  },
  {
   "cell_type": "markdown",
   "metadata": {},
   "source": [
    "___\n",
    "**1-3 MIN BREAK**\n",
    "___"
   ]
  },
  {
   "cell_type": "markdown",
   "metadata": {},
   "source": [
    " # Exploratory Data Analysis\n",
    "\n",
    "> Exploratory Data Analysis (EDA) is an approach/philosophy for data analysis that employs a variety of techniques (mostly graphical) to\n",
    "> * maximize insight into a data set;\n",
    "> * uncover underlying structure;\n",
    "> * extract important variables;\n",
    "> * detect outliers and anomalies;\n",
    "> * test underlying assumptions;\n",
    "> * develop parsimonious models; and\n",
    "> * determine optimal factor settings.\n",
    "\n",
    " https://www.itl.nist.gov/div898/handbook/eda/section1/eda11.htm"
   ]
  },
  {
   "cell_type": "markdown",
   "metadata": {},
   "source": [
    "## Key Terms to Know\n",
    "\n",
    "**Variance:** Distance of instances from the variable mean. \n",
    "\n",
    "**Constant:** Value that is not expected to change.\n",
    "\n",
    "**Cardinality:** Number of distinct values in a column. \n",
    "\n",
    "**Skew:** Values are weighted either to the lower or higher end of a distribution. "
   ]
  },
  {
   "cell_type": "markdown",
   "metadata": {},
   "source": [
    "## More Built-In Pandas Tools\n",
    "Pandas has several functions that allow us to take a high level look at our dataset. "
   ]
  },
  {
   "cell_type": "markdown",
   "metadata": {},
   "source": [
    "### pandas.DataFrame.sample\n",
    "https://pandas.pydata.org/pandas-docs/stable/reference/api/pandas.DataFrame.sample.html"
   ]
  },
  {
   "cell_type": "markdown",
   "metadata": {},
   "source": [
    "Sample is like head and tail, except it randomly selects x amount of of rows from the dataset. Unlike head and tail, however, if we leave the inner argument blank, it will default to 1. "
   ]
  },
  {
   "cell_type": "code",
   "execution_count": 45,
   "metadata": {},
   "outputs": [
    {
     "data": {
      "text/html": [
       "<div>\n",
       "<style scoped>\n",
       "    .dataframe tbody tr th:only-of-type {\n",
       "        vertical-align: middle;\n",
       "    }\n",
       "\n",
       "    .dataframe tbody tr th {\n",
       "        vertical-align: top;\n",
       "    }\n",
       "\n",
       "    .dataframe thead th {\n",
       "        text-align: right;\n",
       "    }\n",
       "</style>\n",
       "<table border=\"1\" class=\"dataframe\">\n",
       "  <thead>\n",
       "    <tr style=\"text-align: right;\">\n",
       "      <th></th>\n",
       "      <th>action</th>\n",
       "      <th>address_block</th>\n",
       "      <th>address_city</th>\n",
       "      <th>address_street</th>\n",
       "      <th>agency</th>\n",
       "      <th>assignment</th>\n",
       "      <th>basis_for_property_seizure</th>\n",
       "      <th>basis_for_search</th>\n",
       "      <th>basis_for_search_explanation</th>\n",
       "      <th>beat</th>\n",
       "      <th>...</th>\n",
       "      <th>reason_for_stop_explanation</th>\n",
       "      <th>result</th>\n",
       "      <th>result_key</th>\n",
       "      <th>result_text</th>\n",
       "      <th>school_name</th>\n",
       "      <th>stop_duration</th>\n",
       "      <th>stop_id</th>\n",
       "      <th>stop_in_response_to_cfs</th>\n",
       "      <th>time_stop</th>\n",
       "      <th>type_of_property_seized</th>\n",
       "    </tr>\n",
       "  </thead>\n",
       "  <tbody>\n",
       "    <tr>\n",
       "      <th>283514</th>\n",
       "      <td>Vehicle impounded</td>\n",
       "      <td>3900</td>\n",
       "      <td>SAN DIEGO</td>\n",
       "      <td>adams</td>\n",
       "      <td>SD</td>\n",
       "      <td>Patrol, traffic enforcement, field operations</td>\n",
       "      <td>NaN</td>\n",
       "      <td>NaN</td>\n",
       "      <td>NaN</td>\n",
       "      <td>813</td>\n",
       "      <td>...</td>\n",
       "      <td>exp reg</td>\n",
       "      <td>Citation for infraction</td>\n",
       "      <td>3</td>\n",
       "      <td>16028(C) VC - NO PROOF $ RESP:ACCIDENT (I) 54354</td>\n",
       "      <td>NaN</td>\n",
       "      <td>25</td>\n",
       "      <td>261067</td>\n",
       "      <td>0</td>\n",
       "      <td>09:10:00</td>\n",
       "      <td>NaN</td>\n",
       "    </tr>\n",
       "  </tbody>\n",
       "</table>\n",
       "<p>1 rows × 47 columns</p>\n",
       "</div>"
      ],
      "text/plain": [
       "                   action  address_block address_city address_street agency  \\\n",
       "283514  Vehicle impounded           3900    SAN DIEGO          adams     SD   \n",
       "\n",
       "                                           assignment  \\\n",
       "283514  Patrol, traffic enforcement, field operations   \n",
       "\n",
       "       basis_for_property_seizure basis_for_search  \\\n",
       "283514                        NaN              NaN   \n",
       "\n",
       "       basis_for_search_explanation  beat  ... reason_for_stop_explanation  \\\n",
       "283514                          NaN   813  ...                     exp reg   \n",
       "\n",
       "                         result result_key  \\\n",
       "283514  Citation for infraction          3   \n",
       "\n",
       "                                             result_text school_name  \\\n",
       "283514  16028(C) VC - NO PROOF $ RESP:ACCIDENT (I) 54354         NaN   \n",
       "\n",
       "        stop_duration stop_id  stop_in_response_to_cfs  time_stop  \\\n",
       "283514             25  261067                        0   09:10:00   \n",
       "\n",
       "        type_of_property_seized  \n",
       "283514                      NaN  \n",
       "\n",
       "[1 rows x 47 columns]"
      ]
     },
     "execution_count": 45,
     "metadata": {},
     "output_type": "execute_result"
    }
   ],
   "source": [
    "df.sample() # sample randomly selects 1 instance unless explicitly given another value"
   ]
  },
  {
   "cell_type": "markdown",
   "metadata": {},
   "source": [
    "Trying again with 5:"
   ]
  },
  {
   "cell_type": "markdown",
   "metadata": {},
   "source": [
    "### pandas.DataFrame.describe\n",
    "https://pandas.pydata.org/pandas-docs/stable/reference/api/pandas.DataFrame.describe.html"
   ]
  },
  {
   "cell_type": "markdown",
   "metadata": {},
   "source": [
    "Describe allows us to view all continuous (numeric, non-categorical) variables and their count, mean, standard deviation, minimum, quartiles, and maximum values. "
   ]
  },
  {
   "cell_type": "code",
   "execution_count": 46,
   "metadata": {},
   "outputs": [
    {
     "data": {
      "text/html": [
       "<div>\n",
       "<style scoped>\n",
       "    .dataframe tbody tr th:only-of-type {\n",
       "        vertical-align: middle;\n",
       "    }\n",
       "\n",
       "    .dataframe tbody tr th {\n",
       "        vertical-align: top;\n",
       "    }\n",
       "\n",
       "    .dataframe thead th {\n",
       "        text-align: right;\n",
       "    }\n",
       "</style>\n",
       "<table border=\"1\" class=\"dataframe\">\n",
       "  <thead>\n",
       "    <tr style=\"text-align: right;\">\n",
       "      <th></th>\n",
       "      <th>address_block</th>\n",
       "      <th>beat</th>\n",
       "      <th>code</th>\n",
       "      <th>exp_years</th>\n",
       "      <th>gender2</th>\n",
       "      <th>gender_nc</th>\n",
       "      <th>gender_non_conforming</th>\n",
       "      <th>is_school</th>\n",
       "      <th>is_student</th>\n",
       "      <th>officer_assignment_key</th>\n",
       "      <th>perceived_age</th>\n",
       "      <th>perceived_limited_english</th>\n",
       "      <th>pid</th>\n",
       "      <th>stop_duration</th>\n",
       "      <th>stop_id</th>\n",
       "      <th>stop_in_response_to_cfs</th>\n",
       "    </tr>\n",
       "  </thead>\n",
       "  <tbody>\n",
       "    <tr>\n",
       "      <th>count</th>\n",
       "      <td>3.562060e+05</td>\n",
       "      <td>356206.000000</td>\n",
       "      <td>356204.000000</td>\n",
       "      <td>356206.000000</td>\n",
       "      <td>356206.000000</td>\n",
       "      <td>356206.000000</td>\n",
       "      <td>356206.000000</td>\n",
       "      <td>356206.000000</td>\n",
       "      <td>356206.000000</td>\n",
       "      <td>356206.000000</td>\n",
       "      <td>356206.000000</td>\n",
       "      <td>356206.000000</td>\n",
       "      <td>356206.000000</td>\n",
       "      <td>356206.000000</td>\n",
       "      <td>356206.000000</td>\n",
       "      <td>356206.000000</td>\n",
       "    </tr>\n",
       "    <tr>\n",
       "      <th>mean</th>\n",
       "      <td>5.595259e+03</td>\n",
       "      <td>509.049252</td>\n",
       "      <td>28709.696177</td>\n",
       "      <td>6.805994</td>\n",
       "      <td>1.275388</td>\n",
       "      <td>0.002485</td>\n",
       "      <td>0.000497</td>\n",
       "      <td>0.001058</td>\n",
       "      <td>0.000629</td>\n",
       "      <td>1.520286</td>\n",
       "      <td>37.396304</td>\n",
       "      <td>0.024564</td>\n",
       "      <td>1.253912</td>\n",
       "      <td>28.127550</td>\n",
       "      <td>165513.081057</td>\n",
       "      <td>0.115534</td>\n",
       "    </tr>\n",
       "    <tr>\n",
       "      <th>std</th>\n",
       "      <td>2.655477e+05</td>\n",
       "      <td>241.527570</td>\n",
       "      <td>27675.679465</td>\n",
       "      <td>7.396683</td>\n",
       "      <td>0.458606</td>\n",
       "      <td>0.111429</td>\n",
       "      <td>0.022286</td>\n",
       "      <td>0.032516</td>\n",
       "      <td>0.025069</td>\n",
       "      <td>1.973837</td>\n",
       "      <td>13.468262</td>\n",
       "      <td>0.154794</td>\n",
       "      <td>1.231544</td>\n",
       "      <td>49.899456</td>\n",
       "      <td>93278.736712</td>\n",
       "      <td>0.319666</td>\n",
       "    </tr>\n",
       "    <tr>\n",
       "      <th>min</th>\n",
       "      <td>0.000000e+00</td>\n",
       "      <td>111.000000</td>\n",
       "      <td>0.000000</td>\n",
       "      <td>1.000000</td>\n",
       "      <td>0.000000</td>\n",
       "      <td>0.000000</td>\n",
       "      <td>0.000000</td>\n",
       "      <td>0.000000</td>\n",
       "      <td>0.000000</td>\n",
       "      <td>1.000000</td>\n",
       "      <td>1.000000</td>\n",
       "      <td>0.000000</td>\n",
       "      <td>1.000000</td>\n",
       "      <td>1.000000</td>\n",
       "      <td>2443.000000</td>\n",
       "      <td>0.000000</td>\n",
       "    </tr>\n",
       "    <tr>\n",
       "      <th>25%</th>\n",
       "      <td>8.000000e+02</td>\n",
       "      <td>315.000000</td>\n",
       "      <td>0.000000</td>\n",
       "      <td>1.000000</td>\n",
       "      <td>1.000000</td>\n",
       "      <td>0.000000</td>\n",
       "      <td>0.000000</td>\n",
       "      <td>0.000000</td>\n",
       "      <td>0.000000</td>\n",
       "      <td>1.000000</td>\n",
       "      <td>26.000000</td>\n",
       "      <td>0.000000</td>\n",
       "      <td>1.000000</td>\n",
       "      <td>10.000000</td>\n",
       "      <td>83999.250000</td>\n",
       "      <td>0.000000</td>\n",
       "    </tr>\n",
       "    <tr>\n",
       "      <th>50%</th>\n",
       "      <td>2.700000e+03</td>\n",
       "      <td>521.000000</td>\n",
       "      <td>32111.000000</td>\n",
       "      <td>4.000000</td>\n",
       "      <td>1.000000</td>\n",
       "      <td>0.000000</td>\n",
       "      <td>0.000000</td>\n",
       "      <td>0.000000</td>\n",
       "      <td>0.000000</td>\n",
       "      <td>1.000000</td>\n",
       "      <td>35.000000</td>\n",
       "      <td>0.000000</td>\n",
       "      <td>1.000000</td>\n",
       "      <td>15.000000</td>\n",
       "      <td>166968.500000</td>\n",
       "      <td>0.000000</td>\n",
       "    </tr>\n",
       "    <tr>\n",
       "      <th>75%</th>\n",
       "      <td>4.400000e+03</td>\n",
       "      <td>627.000000</td>\n",
       "      <td>54194.000000</td>\n",
       "      <td>10.000000</td>\n",
       "      <td>2.000000</td>\n",
       "      <td>0.000000</td>\n",
       "      <td>0.000000</td>\n",
       "      <td>0.000000</td>\n",
       "      <td>0.000000</td>\n",
       "      <td>1.000000</td>\n",
       "      <td>48.000000</td>\n",
       "      <td>0.000000</td>\n",
       "      <td>1.000000</td>\n",
       "      <td>25.000000</td>\n",
       "      <td>245620.750000</td>\n",
       "      <td>0.000000</td>\n",
       "    </tr>\n",
       "    <tr>\n",
       "      <th>max</th>\n",
       "      <td>9.999990e+07</td>\n",
       "      <td>999.000000</td>\n",
       "      <td>99999.000000</td>\n",
       "      <td>50.000000</td>\n",
       "      <td>4.000000</td>\n",
       "      <td>5.000000</td>\n",
       "      <td>1.000000</td>\n",
       "      <td>1.000000</td>\n",
       "      <td>1.000000</td>\n",
       "      <td>10.000000</td>\n",
       "      <td>120.000000</td>\n",
       "      <td>1.000000</td>\n",
       "      <td>52.000000</td>\n",
       "      <td>1440.000000</td>\n",
       "      <td>324716.000000</td>\n",
       "      <td>1.000000</td>\n",
       "    </tr>\n",
       "  </tbody>\n",
       "</table>\n",
       "</div>"
      ],
      "text/plain": [
       "       address_block           beat           code      exp_years  \\\n",
       "count   3.562060e+05  356206.000000  356204.000000  356206.000000   \n",
       "mean    5.595259e+03     509.049252   28709.696177       6.805994   \n",
       "std     2.655477e+05     241.527570   27675.679465       7.396683   \n",
       "min     0.000000e+00     111.000000       0.000000       1.000000   \n",
       "25%     8.000000e+02     315.000000       0.000000       1.000000   \n",
       "50%     2.700000e+03     521.000000   32111.000000       4.000000   \n",
       "75%     4.400000e+03     627.000000   54194.000000      10.000000   \n",
       "max     9.999990e+07     999.000000   99999.000000      50.000000   \n",
       "\n",
       "             gender2      gender_nc  gender_non_conforming      is_school  \\\n",
       "count  356206.000000  356206.000000          356206.000000  356206.000000   \n",
       "mean        1.275388       0.002485               0.000497       0.001058   \n",
       "std         0.458606       0.111429               0.022286       0.032516   \n",
       "min         0.000000       0.000000               0.000000       0.000000   \n",
       "25%         1.000000       0.000000               0.000000       0.000000   \n",
       "50%         1.000000       0.000000               0.000000       0.000000   \n",
       "75%         2.000000       0.000000               0.000000       0.000000   \n",
       "max         4.000000       5.000000               1.000000       1.000000   \n",
       "\n",
       "          is_student  officer_assignment_key  perceived_age  \\\n",
       "count  356206.000000           356206.000000  356206.000000   \n",
       "mean        0.000629                1.520286      37.396304   \n",
       "std         0.025069                1.973837      13.468262   \n",
       "min         0.000000                1.000000       1.000000   \n",
       "25%         0.000000                1.000000      26.000000   \n",
       "50%         0.000000                1.000000      35.000000   \n",
       "75%         0.000000                1.000000      48.000000   \n",
       "max         1.000000               10.000000     120.000000   \n",
       "\n",
       "       perceived_limited_english            pid  stop_duration        stop_id  \\\n",
       "count              356206.000000  356206.000000  356206.000000  356206.000000   \n",
       "mean                    0.024564       1.253912      28.127550  165513.081057   \n",
       "std                     0.154794       1.231544      49.899456   93278.736712   \n",
       "min                     0.000000       1.000000       1.000000    2443.000000   \n",
       "25%                     0.000000       1.000000      10.000000   83999.250000   \n",
       "50%                     0.000000       1.000000      15.000000  166968.500000   \n",
       "75%                     0.000000       1.000000      25.000000  245620.750000   \n",
       "max                     1.000000      52.000000    1440.000000  324716.000000   \n",
       "\n",
       "       stop_in_response_to_cfs  \n",
       "count            356206.000000  \n",
       "mean                  0.115534  \n",
       "std                   0.319666  \n",
       "min                   0.000000  \n",
       "25%                   0.000000  \n",
       "50%                   0.000000  \n",
       "75%                   0.000000  \n",
       "max                   1.000000  "
      ]
     },
     "execution_count": 46,
     "metadata": {},
     "output_type": "execute_result"
    }
   ],
   "source": [
    "df.describe()"
   ]
  },
  {
   "cell_type": "markdown",
   "metadata": {},
   "source": [
    "## Pandas Profiling"
   ]
  },
  {
   "cell_type": "markdown",
   "metadata": {},
   "source": [
    "Pandas Profiling is a powerful visual package that allows us to easily open up our dataset and poke around. We can use it to view details about our variables, including distributions, interactions, cardinality, and missing values. \n",
    "\n",
    "Install Pandas Profiling by opening Powershell Prompt from Anaconda Navigator and running one of the following commands:\n",
    "https://anaconda.org/conda-forge/pandas-profiling\n",
    "\n",
    "*Note: For this course, we'll be sticking to installing packages with Conda. Pip can also be used to install python packages.*"
   ]
  },
  {
   "cell_type": "markdown",
   "metadata": {},
   "source": [
    "*To install this package with conda run the following in powershell:*\n",
    "**conda install -c conda-forge pandas-profiling**"
   ]
  },
  {
   "cell_type": "code",
   "execution_count": 47,
   "metadata": {},
   "outputs": [],
   "source": [
    "import pandas_profiling"
   ]
  },
  {
   "cell_type": "code",
   "execution_count": 50,
   "metadata": {
    "scrolled": true
   },
   "outputs": [
    {
     "data": {
      "application/vnd.jupyter.widget-view+json": {
       "model_id": "8c80880f3b91419ba2c5d620b04bc83e",
       "version_major": 2,
       "version_minor": 0
      },
      "text/plain": [
       "HBox(children=(FloatProgress(value=0.0, description='Summarize dataset', max=61.0, style=ProgressStyle(descrip…"
      ]
     },
     "metadata": {},
     "output_type": "display_data"
    },
    {
     "name": "stdout",
     "output_type": "stream",
     "text": [
      "\n"
     ]
    },
    {
     "data": {
      "application/vnd.jupyter.widget-view+json": {
       "model_id": "9494d2ad5dbe44a6acf125112d9e5892",
       "version_major": 2,
       "version_minor": 0
      },
      "text/plain": [
       "HBox(children=(FloatProgress(value=0.0, description='Generate report structure', max=1.0, style=ProgressStyle(…"
      ]
     },
     "metadata": {},
     "output_type": "display_data"
    },
    {
     "name": "stdout",
     "output_type": "stream",
     "text": [
      "\n"
     ]
    },
    {
     "data": {
      "application/vnd.jupyter.widget-view+json": {
       "model_id": "4a347f2e88cd4748aa80a7eba81b5426",
       "version_major": 2,
       "version_minor": 0
      },
      "text/plain": [
       "HBox(children=(FloatProgress(value=0.0, description='Render HTML', max=1.0, style=ProgressStyle(description_wi…"
      ]
     },
     "metadata": {},
     "output_type": "display_data"
    },
    {
     "name": "stdout",
     "output_type": "stream",
     "text": [
      "\n"
     ]
    },
    {
     "data": {
      "application/vnd.jupyter.widget-view+json": {
       "model_id": "70f32384640b4bdebb342c5a8d1117ad",
       "version_major": 2,
       "version_minor": 0
      },
      "text/plain": [
       "HBox(children=(FloatProgress(value=0.0, description='Export report to file', max=1.0, style=ProgressStyle(desc…"
      ]
     },
     "metadata": {},
     "output_type": "display_data"
    },
    {
     "name": "stdout",
     "output_type": "stream",
     "text": [
      "\n"
     ]
    }
   ],
   "source": [
    "# Now, let's run a pandas profiling profile report on our DataFrame (this will take a bit)\n",
    "report = df.profile_report()\n",
    "report.to_file(\"your_report.html\")"
   ]
  },
  {
   "cell_type": "markdown",
   "metadata": {},
   "source": [
    "While we can view this report in our notebook, I prefer to export the entire report to an .html file we can view separately. "
   ]
  },
  {
   "cell_type": "markdown",
   "metadata": {},
   "source": [
    "___\n",
    "**QUESTIONS?** (While profiling report is running)\n",
    "___"
   ]
  },
  {
   "cell_type": "markdown",
   "metadata": {},
   "source": [
    "# Data Cleaning\n",
    "\"Data cleaning is the process of preparing data for analysis by removing or modifying data that is incorrect, incomplete, irrelevant, duplicated, or improperly formatted.\"  \n",
    "https://www.sisense.com/glossary/data-cleaning/"
   ]
  },
  {
   "cell_type": "code",
   "execution_count": 62,
   "metadata": {},
   "outputs": [],
   "source": [
    "# Since we're planning on making destructive changes to our data, we'll copy it into df_reduced to preserve the integrity of df\n",
    "df_reduced = df.copy() "
   ]
  },
  {
   "cell_type": "markdown",
   "metadata": {},
   "source": [
    "## Missing Values"
   ]
  },
  {
   "cell_type": "markdown",
   "metadata": {},
   "source": [
    "There are many ways to deal with missing values. Most are beyond the scope of this course, especially since we are dealing with text data. In this instance, we'll drop columns from our dataset that have a majority missing values. "
   ]
  },
  {
   "cell_type": "markdown",
   "metadata": {},
   "source": [
    "### pandas.DataFrame.drop\n",
    "https://pandas.pydata.org/pandas-docs/stable/reference/api/pandas.DataFrame.drop.html"
   ]
  },
  {
   "cell_type": "markdown",
   "metadata": {},
   "source": [
    "The pandas function drop() allows us to select columns that we want to remove from the dataset. "
   ]
  },
  {
   "cell_type": "code",
   "execution_count": 63,
   "metadata": {},
   "outputs": [],
   "source": [
    "# select columns to drop\n",
    "df_reduced = df_reduced.drop(columns = ['highway_exit', 'address_street', 'intersection', 'landmark','school_name', 'consented', 'basis_for_search', 'basis_for_search_explanation', 'basis_for_property_seizure', 'type_of_property_seized', 'code', 'result_text', 'address_block'])"
   ]
  },
  {
   "cell_type": "markdown",
   "metadata": {},
   "source": [
    "Let's take a look to confirm we actually dropped 13 columns."
   ]
  },
  {
   "cell_type": "code",
   "execution_count": 64,
   "metadata": {},
   "outputs": [
    {
     "name": "stdout",
     "output_type": "stream",
     "text": [
      "# of columns in df: 47\n",
      "# of columns in df_reduced: 34\n"
     ]
    }
   ],
   "source": [
    "# we can use the len() function to count how many columns are in each dataset\n",
    "print('# of columns in df:', len(df.columns))\n",
    "print('# of columns in df_reduced:' , len(df_reduced.columns))"
   ]
  },
  {
   "cell_type": "markdown",
   "metadata": {},
   "source": [
    "## Duplicate Columns"
   ]
  },
  {
   "cell_type": "markdown",
   "metadata": {},
   "source": [
    "Duplicate columns are redundant and add bloat to our dataset. Of course, we want to ensure that this is the case, and this is not simply a case of mislabeled data. To count frequency of values, we can use the pandas function value_counts:  \n",
    "https://pandas.pydata.org/pandas-docs/stable/reference/api/pandas.Series.value_counts.html"
   ]
  },
  {
   "cell_type": "markdown",
   "metadata": {},
   "source": [
    "### gender, gender2, and perceived_gender"
   ]
  },
  {
   "cell_type": "code",
   "execution_count": 65,
   "metadata": {},
   "outputs": [
    {
     "name": "stdout",
     "output_type": "stream",
     "text": [
      "Male                      259300\n",
      "Female                     95818\n",
      "Transgender man/boy          569\n",
      "Transgender woman/girl       415\n",
      "Name: gender, dtype: int64 \n",
      "\n",
      "1    259302\n",
      "2     95816\n",
      "3       569\n",
      "4       415\n",
      "0       104\n",
      "Name: gender2, dtype: int64 \n",
      "\n",
      "Male                      259302\n",
      "Female                     95816\n",
      "Transgender man/boy          569\n",
      "Transgender woman/girl       415\n",
      "Name: perceived_gender, dtype: int64 \n",
      "\n"
     ]
    }
   ],
   "source": [
    "# gender\n",
    "selection = df_reduced[['gender', 'gender2', 'perceived_gender']]\n",
    "\n",
    "for col in selection:\n",
    "    print(df_reduced[col].value_counts(), '\\n')"
   ]
  },
  {
   "cell_type": "markdown",
   "metadata": {},
   "source": [
    "*Note: we use single braces, \"[]\", when selecting one column and double braces, \"[[]]\" when selecting multiple columns.*"
   ]
  },
  {
   "cell_type": "markdown",
   "metadata": {},
   "source": [
    "It's clear that gender, gender2, and perceived_gender are two representations of the same data, so let's drop two of them. "
   ]
  },
  {
   "cell_type": "code",
   "execution_count": 66,
   "metadata": {},
   "outputs": [],
   "source": [
    "# drop duplicate gender columns\n",
    "df_reduced = df_reduced.drop(columns = ['gender2', 'perceived_gender'])"
   ]
  },
  {
   "cell_type": "markdown",
   "metadata": {},
   "source": [
    "### gender_nc vs gender_non_conforming"
   ]
  },
  {
   "cell_type": "code",
   "execution_count": 67,
   "metadata": {},
   "outputs": [
    {
     "name": "stdout",
     "output_type": "stream",
     "text": [
      "0    356029\n",
      "5       177\n",
      "Name: gender_nc, dtype: int64 \n",
      "\n",
      "0    356029\n",
      "1       177\n",
      "Name: gender_non_conforming, dtype: int64 \n",
      "\n"
     ]
    }
   ],
   "source": [
    "# gender_nc vs gender_non_conforming\n",
    "selection = df_reduced[['gender_nc', 'gender_non_conforming']]\n",
    "\n",
    "for col in selection:\n",
    "    print(df_reduced[col].value_counts(), '\\n')"
   ]
  },
  {
   "cell_type": "markdown",
   "metadata": {},
   "source": [
    "gender_nc and gender_non_conforming are identical as well, so let's drop one of those. "
   ]
  },
  {
   "cell_type": "code",
   "execution_count": 68,
   "metadata": {},
   "outputs": [],
   "source": [
    "# drop gender_nc\n",
    "df_reduced = df_reduced.drop(columns = ['gender_nc']) # gender_nc is identical to gender_non_conforming"
   ]
  },
  {
   "cell_type": "markdown",
   "metadata": {},
   "source": [
    "## Constant/Close to Constant Columns"
   ]
  },
  {
   "cell_type": "markdown",
   "metadata": {},
   "source": [
    "A \"constant\" variable is one that is not expected to change. For example, if we look at agency, we can see that every value is \"San Diego\". We're dealing with San Diego City data, so this makes sense. "
   ]
  },
  {
   "cell_type": "code",
   "execution_count": 69,
   "metadata": {},
   "outputs": [],
   "source": [
    "# drop constant/close to constant text variables\n",
    "df_reduced = df_reduced.drop(columns = ['ori', 'agency', 'address_city'])"
   ]
  },
  {
   "cell_type": "markdown",
   "metadata": {},
   "source": [
    "## Low Variance"
   ]
  },
  {
   "cell_type": "markdown",
   "metadata": {},
   "source": [
    "When a variable has a very low variance, this implies that most instances are close to equal. While these variables are not constant, they are close. Therefore, they often do not give more information. "
   ]
  },
  {
   "cell_type": "markdown",
   "metadata": {},
   "source": [
    "### pandas.DataFrame.var\n",
    "https://pandas.pydata.org/pandas-docs/stable/reference/api/pandas.DataFrame.var.html"
   ]
  },
  {
   "cell_type": "markdown",
   "metadata": {},
   "source": [
    "We can use the pandas function var() to show the variance of each continuous variable. "
   ]
  },
  {
   "cell_type": "code",
   "execution_count": 70,
   "metadata": {},
   "outputs": [
    {
     "data": {
      "text/plain": [
       "beat                         5.833557e+04\n",
       "exp_years                    5.471091e+01\n",
       "gender_non_conforming        4.966580e-04\n",
       "is_school                    1.057259e-03\n",
       "is_student                   6.284559e-04\n",
       "officer_assignment_key       3.896034e+00\n",
       "perceived_age                1.813941e+02\n",
       "perceived_limited_english    2.396109e-02\n",
       "pid                          1.516699e+00\n",
       "stop_duration                2.489956e+03\n",
       "stop_id                      8.700923e+09\n",
       "stop_in_response_to_cfs      1.021864e-01\n",
       "dtype: float64"
      ]
     },
     "execution_count": 70,
     "metadata": {},
     "output_type": "execute_result"
    }
   ],
   "source": [
    "# df.var() gives the variance of all numeric typed variables in the data frame\n",
    "df_reduced.var()"
   ]
  },
  {
   "cell_type": "markdown",
   "metadata": {},
   "source": [
    "### Drop close to 0 variance variables"
   ]
  },
  {
   "cell_type": "markdown",
   "metadata": {},
   "source": [
    "For our analysis, we'll drop variables with less than 0.1. "
   ]
  },
  {
   "cell_type": "code",
   "execution_count": 71,
   "metadata": {},
   "outputs": [],
   "source": [
    "df_reduced = df_reduced.drop(columns = ['is_school', 'is_student', 'perceived_limited_english', 'gender_non_conforming'])"
   ]
  },
  {
   "cell_type": "code",
   "execution_count": 80,
   "metadata": {},
   "outputs": [
    {
     "data": {
      "text/plain": [
       "Index(['action', 'assignment', 'beat', 'beat_name', 'date_stop', 'disability',\n",
       "       'exp_years', 'gender', 'officer_assignment_key', 'perceived_age',\n",
       "       'perceived_lgbt', 'pid', 'race', 'reason_for_stop',\n",
       "       'reason_for_stop_code', 'reason_for_stop_code_text',\n",
       "       'reason_for_stop_detail', 'reason_for_stop_explanation', 'result',\n",
       "       'result_key', 'stop_duration', 'stop_id', 'stop_in_response_to_cfs',\n",
       "       'time_stop'],\n",
       "      dtype='object')"
      ]
     },
     "execution_count": 80,
     "metadata": {},
     "output_type": "execute_result"
    }
   ],
   "source": [
    "df_reduced.columns"
   ]
  },
  {
   "cell_type": "markdown",
   "metadata": {},
   "source": [
    "____\n",
    "**1-3 MIN BREAK**\n",
    "___"
   ]
  },
  {
   "cell_type": "markdown",
   "metadata": {},
   "source": [
    "# Visualizations\n",
    "Now that we've got a more usable dataset, let's take a look at some visualizations and see if we can identify some areas worth exploring. "
   ]
  },
  {
   "cell_type": "markdown",
   "metadata": {},
   "source": [
    "## Scatter Matrix\n",
    "https://pandas.pydata.org/docs/reference/api/pandas.plotting.scatter_matrix.html"
   ]
  },
  {
   "cell_type": "markdown",
   "metadata": {},
   "source": [
    "A scatter matrix is a helpful tool for preliminary EDA. It allows us to see possible correlations or anomalies in continuous variable relationships. However, this is a very rough method and should not be used to draw conclusions. Further analysis is always necessary. "
   ]
  },
  {
   "cell_type": "code",
   "execution_count": 81,
   "metadata": {},
   "outputs": [
    {
     "data": {
      "text/plain": [
       "array([[<matplotlib.axes._subplots.AxesSubplot object at 0x000001EEBAD1EB80>,\n",
       "        <matplotlib.axes._subplots.AxesSubplot object at 0x000001EEBAD36A00>,\n",
       "        <matplotlib.axes._subplots.AxesSubplot object at 0x000001EEB03DF280>,\n",
       "        <matplotlib.axes._subplots.AxesSubplot object at 0x000001EEB8CEBA00>],\n",
       "       [<matplotlib.axes._subplots.AxesSubplot object at 0x000001EEB8CBFF40>,\n",
       "        <matplotlib.axes._subplots.AxesSubplot object at 0x000001EEB144E580>,\n",
       "        <matplotlib.axes._subplots.AxesSubplot object at 0x000001EEB144E670>,\n",
       "        <matplotlib.axes._subplots.AxesSubplot object at 0x000001EEB1AA5E50>],\n",
       "       [<matplotlib.axes._subplots.AxesSubplot object at 0x000001EEB1E03D00>,\n",
       "        <matplotlib.axes._subplots.AxesSubplot object at 0x000001EEAE6194C0>,\n",
       "        <matplotlib.axes._subplots.AxesSubplot object at 0x000001EEB3AD5C40>,\n",
       "        <matplotlib.axes._subplots.AxesSubplot object at 0x000001EEB486C400>],\n",
       "       [<matplotlib.axes._subplots.AxesSubplot object at 0x000001EEB4844B80>,\n",
       "        <matplotlib.axes._subplots.AxesSubplot object at 0x000001EEB498F340>,\n",
       "        <matplotlib.axes._subplots.AxesSubplot object at 0x000001EEB4C64AC0>,\n",
       "        <matplotlib.axes._subplots.AxesSubplot object at 0x000001EEB101C280>]],\n",
       "      dtype=object)"
      ]
     },
     "execution_count": 81,
     "metadata": {},
     "output_type": "execute_result"
    },
    {
     "data": {
      "image/png": "[encoded data removed]",
      "text/plain": [
       "<Figure size 864x720 with 16 Axes>"
      ]
     },
     "metadata": {
      "needs_background": "light"
     },
     "output_type": "display_data"
    }
   ],
   "source": [
    "# import the scatter matrix function from the pandas plotting package\n",
    "from pandas.plotting import scatter_matrix\n",
    "\n",
    "# Select variable of interest\n",
    "df_scatter = df.loc[:,['exp_years', 'stop_duration', 'stop_in_response_to_cfs', 'assignment', 'action', 'perceived_age', 'race', 'reason_for_stop']]\n",
    "\n",
    "# create scatter matrix from df_scatter and choose the display type of the distribution diagonal\n",
    "scatter_matrix(df_scatter, figsize = (12,10), diagonal='hist')"
   ]
  },
  {
   "cell_type": "markdown",
   "metadata": {},
   "source": [
    "## Counting Instances by Value"
   ]
  },
  {
   "cell_type": "markdown",
   "metadata": {},
   "source": [
    "Race is a prominent categorical variable in our dataset. Before we visualize this variable, let's get a general idea of the distribution of stops by race. We can save our results in a dataframe for use later."
   ]
  },
  {
   "cell_type": "code",
   "execution_count": 82,
   "metadata": {},
   "outputs": [
    {
     "data": {
      "text/html": [
       "<div>\n",
       "<style scoped>\n",
       "    .dataframe tbody tr th:only-of-type {\n",
       "        vertical-align: middle;\n",
       "    }\n",
       "\n",
       "    .dataframe tbody tr th {\n",
       "        vertical-align: top;\n",
       "    }\n",
       "\n",
       "    .dataframe thead th {\n",
       "        text-align: right;\n",
       "    }\n",
       "</style>\n",
       "<table border=\"1\" class=\"dataframe\">\n",
       "  <thead>\n",
       "    <tr style=\"text-align: right;\">\n",
       "      <th></th>\n",
       "      <th>race</th>\n",
       "      <th>stops</th>\n",
       "      <th>% of total</th>\n",
       "    </tr>\n",
       "  </thead>\n",
       "  <tbody>\n",
       "    <tr>\n",
       "      <th>0</th>\n",
       "      <td>White</td>\n",
       "      <td>152082</td>\n",
       "      <td>42.70</td>\n",
       "    </tr>\n",
       "    <tr>\n",
       "      <th>1</th>\n",
       "      <td>Hispanic/Latino/a</td>\n",
       "      <td>102862</td>\n",
       "      <td>28.88</td>\n",
       "    </tr>\n",
       "    <tr>\n",
       "      <th>2</th>\n",
       "      <td>Black/African American</td>\n",
       "      <td>71069</td>\n",
       "      <td>19.95</td>\n",
       "    </tr>\n",
       "    <tr>\n",
       "      <th>3</th>\n",
       "      <td>Asian</td>\n",
       "      <td>17052</td>\n",
       "      <td>4.79</td>\n",
       "    </tr>\n",
       "    <tr>\n",
       "      <th>4</th>\n",
       "      <td>Middle Eastern or South Asian</td>\n",
       "      <td>9415</td>\n",
       "      <td>2.64</td>\n",
       "    </tr>\n",
       "    <tr>\n",
       "      <th>5</th>\n",
       "      <td>Pacific Islander</td>\n",
       "      <td>2929</td>\n",
       "      <td>0.82</td>\n",
       "    </tr>\n",
       "    <tr>\n",
       "      <th>6</th>\n",
       "      <td>Native American</td>\n",
       "      <td>797</td>\n",
       "      <td>0.22</td>\n",
       "    </tr>\n",
       "  </tbody>\n",
       "</table>\n",
       "</div>"
      ],
      "text/plain": [
       "                            race   stops  % of total\n",
       "0                          White  152082       42.70\n",
       "1              Hispanic/Latino/a  102862       28.88\n",
       "2         Black/African American   71069       19.95\n",
       "3                          Asian   17052        4.79\n",
       "4  Middle Eastern or South Asian    9415        2.64\n",
       "5               Pacific Islander    2929        0.82\n",
       "6                Native American     797        0.22"
      ]
     },
     "execution_count": 82,
     "metadata": {},
     "output_type": "execute_result"
    }
   ],
   "source": [
    "# import counter function from collections package\n",
    "from collections import Counter\n",
    "\n",
    "# select values we want to count\n",
    "values = df_reduced['race']\n",
    "\n",
    "# count values\n",
    "counts = Counter(values)\n",
    "\n",
    "# create dataframe with counts sorted by most common and name columns race and stops\n",
    "stopsByRace = pd.DataFrame(counts.most_common(), columns = ['race', 'stops'])\n",
    "\n",
    "# add percentage column and round to the 2nd decimal point\n",
    "stopsByRace['% of total'] = round(stopsByRace.stops/356204*100, 2)\n",
    "\n",
    "stopsByRace"
   ]
  },
  {
   "cell_type": "markdown",
   "metadata": {},
   "source": [
    "## Matplotlib"
   ]
  },
  {
   "cell_type": "markdown",
   "metadata": {},
   "source": [
    "Okay, okay, let's visualize this with matplotlib. Matplotlib is the premier graphing package in python. It is used to visually represent data in many different ways, including histograms, scatterplots, boxplots, etc. \n",
    "\n",
    "Here's a decent reference for types of charts: https://chartio.com/learn/charts/essential-chart-types-for-data-visualization/"
   ]
  },
  {
   "cell_type": "code",
   "execution_count": 83,
   "metadata": {},
   "outputs": [],
   "source": [
    "# import matplotlib pyplot package\n",
    "import matplotlib.pyplot as plt"
   ]
  },
  {
   "cell_type": "markdown",
   "metadata": {},
   "source": [
    "### Bar Chart: Level 1\n",
    "Let's start with a basic bar chart."
   ]
  },
  {
   "cell_type": "code",
   "execution_count": 84,
   "metadata": {},
   "outputs": [
    {
     "data": {
      "image/png": "[encoded data removed]",
      "text/plain": [
       "<Figure size 432x288 with 1 Axes>"
      ]
     },
     "metadata": {
      "needs_background": "light"
     },
     "output_type": "display_data"
    }
   ],
   "source": [
    "# select y variable from stopsByRace df\n",
    "y = pd.Series(stopsByRace.stops)\n",
    "\n",
    "# select x variable \n",
    "x = pd.Series(stopsByRace.race)\n",
    "\n",
    "# 'ax' is a common object name for the primary plot. Iterations like 'ax1', 'ax2', etc. can be used in facet plots. \n",
    "ax = y.plot(kind='bar')"
   ]
  },
  {
   "cell_type": "markdown",
   "metadata": {},
   "source": [
    "**Never use a chart like this.** We can see that there are no labels on the x and y axis and we don't know what the units in the chart are. What are values 0-6? Also, it just looks terrible and we can do better. "
   ]
  },
  {
   "cell_type": "markdown",
   "metadata": {},
   "source": [
    "### Bar Chart: Level 2"
   ]
  },
  {
   "cell_type": "markdown",
   "metadata": {},
   "source": [
    "Okay, let's improve by adding x and y labels, a title, and putting our 0-6 categories in context. "
   ]
  },
  {
   "cell_type": "code",
   "execution_count": 85,
   "metadata": {},
   "outputs": [
    {
     "data": {
      "text/plain": [
       "[Text(0, 0, 'White'),\n",
       " Text(0, 0, 'Hispanic/Latino/a'),\n",
       " Text(0, 0, 'Black/African American'),\n",
       " Text(0, 0, 'Asian'),\n",
       " Text(0, 0, 'Middle Eastern or South Asian'),\n",
       " Text(0, 0, 'Pacific Islander'),\n",
       " Text(0, 0, 'Native American')]"
      ]
     },
     "execution_count": 85,
     "metadata": {},
     "output_type": "execute_result"
    },
    {
     "data": {
      "image/png": "[encoded data removed]",
      "text/plain": [
       "<Figure size 432x288 with 1 Axes>"
      ]
     },
     "metadata": {
      "needs_background": "light"
     },
     "output_type": "display_data"
    }
   ],
   "source": [
    "y = pd.Series(stopsByRace.stops)\n",
    "x = pd.Series(stopsByRace.race)\n",
    "\n",
    "# 'ax' is a common object name for the primary plot. Iterations like 'ax1', 'ax2', etc. can be used in facet plots. \n",
    "ax = y.plot(kind='bar', color = 'green')\n",
    "\n",
    "# set x label\n",
    "ax.set_xlabel('Race')\n",
    "\n",
    "# set y label\n",
    "ax.set_ylabel('Number of Stops')\n",
    "\n",
    "# set title\n",
    "ax.set_title('Number of Police Stops by Race in San Diego')\n",
    "\n",
    "# set x tick labels with the data from our race column in stopsByRace\n",
    "ax.set_xticklabels(x)"
   ]
  },
  {
   "cell_type": "markdown",
   "metadata": {},
   "source": [
    "Much better. Still not perfect, but usable, and it took minimal effort to get here. We can still improve this significantly, but this will do if you just need a quick plot for your own reference. "
   ]
  },
  {
   "cell_type": "markdown",
   "metadata": {},
   "source": [
    "### Bar Chart: Level 3"
   ]
  },
  {
   "cell_type": "markdown",
   "metadata": {},
   "source": [
    "Alright. Level 3. Lets add counts to our bars, improve legibility, and overall just spice things up a bit. "
   ]
  },
  {
   "cell_type": "code",
   "execution_count": 86,
   "metadata": {},
   "outputs": [
    {
     "data": {
      "image/png": "[encoded data removed]",
      "text/plain": [
       "<Figure size 1080x720 with 1 Axes>"
      ]
     },
     "metadata": {},
     "output_type": "display_data"
    }
   ],
   "source": [
    "# import matplotlib pyplot package\n",
    "import matplotlib.pyplot as plt\n",
    "\n",
    "y = pd.Series(stopsByRace.stops)\n",
    "x = pd.Series(stopsByRace.race)\n",
    "\n",
    "# choose which style to use for the plot\n",
    "plt.style.use('ggplot')\n",
    "\n",
    "# manually choose the size of a figure in inches\n",
    "plt.figure(figsize =(15,10))\n",
    "\n",
    "# 'ax' is a common object name for the primary plot. Iterations like 'ax1', 'ax2', etc. can be used in facet plots. \n",
    "ax = y.plot(kind='bar')\n",
    "ax.set_xlabel('Race')\n",
    "ax.set_ylabel('Number of Stops')\n",
    "ax.set_title('Number of Police Stops by Race in San Diego')\n",
    "ax.set_xticklabels(x)\n",
    "\n",
    "# add labels to each bar in the chart\n",
    "def add_value_labels(ax, spacing=5):\n",
    "\n",
    "    # For each bar: Place a label\n",
    "    for rect in ax.patches:\n",
    "        # Get X and Y placement of label from rect.\n",
    "        y_value = rect.get_height()\n",
    "        x_value = rect.get_x() + rect.get_width() / 2\n",
    "\n",
    "        # Number of points between bar and label. Change to your liking.\n",
    "        space = spacing\n",
    "        # Vertical alignment for positive values\n",
    "        va = 'bottom'\n",
    "\n",
    "        # If value of bar is negative: Place label below bar\n",
    "        if y_value < 0:\n",
    "            # Invert space to place label below\n",
    "            space *= -1\n",
    "            # Vertically align label at top\n",
    "            va = 'top'\n",
    "\n",
    "        # Use Y value as label and format number with one decimal place\n",
    "        label = \"{:.1f}\".format(y_value)\n",
    "\n",
    "        # Create annotation\n",
    "        ax.annotate(\n",
    "            label,                      # Use `label` as label\n",
    "            (x_value, y_value),         # Place label at end of the bar\n",
    "            xytext=(0, space),          # Vertically shift label by `space`\n",
    "            textcoords=\"offset points\", # Interpret `xytext` as offset in points\n",
    "            ha='center',                # Horizontally center label\n",
    "            va=va)                      # Vertically align label differently for\n",
    "                                        # positive and negative values.\n",
    "\n",
    "\n",
    "# # Call the function above. All the magic happens there.\n",
    "add_value_labels(ax)\n",
    "\n",
    "# make sure nothing is cut off\n",
    "plt.tight_layout()\n",
    "\n",
    "# We can use this save figure in working directory\n",
    "plt.savefig(\"stopsByRace.png\")"
   ]
  },
  {
   "cell_type": "markdown",
   "metadata": {},
   "source": [
    "___"
   ]
  },
  {
   "cell_type": "markdown",
   "metadata": {},
   "source": [
    "### Adding Context"
   ]
  },
  {
   "cell_type": "markdown",
   "metadata": {},
   "source": [
    "#### Racial Distribution of San Diego (Census data) - July 1, 2019*\n",
    "Total Population: 1,423,851\n",
    "\n",
    "White: 42.9%\n",
    "\n",
    "Hispanic or Latino: 30.1%\n",
    "\n",
    "Asian: 16.7%\n",
    "\n",
    "Black or African American: 6.5%\n",
    "\n",
    "American Indian and Alaska Native: 0.4%\n",
    "\n",
    "Native Hawaiian and Pacific Islander: 0.4%\n",
    "\n",
    "*https://www.census.gov/quickfacts/fact/table/sandiegocountycalifornia,CA/PST045219\n",
    "\n",
    "<br></br>\n",
    "#### Racial Distribution of Stops (Our data) \n",
    "\n",
    "Total Stops: 555655\n",
    "\n",
    "White: 246561 (44.37%)\n",
    "\n",
    "Hispanic/Latino: 154003 (27.71%)\n",
    "\n",
    "Black/African American: 111655 (20%)\n",
    "\n",
    "Asian: 23452 (4.22%)\n",
    "\n",
    "Middle Eastern or South Asian: 13431 (2.42%)\n",
    "\n",
    "Pacific Islander: 5080 (0.91%)\n",
    "\n",
    "Native American: 1473 (0.03%)\n"
   ]
  },
  {
   "cell_type": "markdown",
   "metadata": {},
   "source": [
    "___"
   ]
  },
  {
   "cell_type": "markdown",
   "metadata": {},
   "source": [
    "## Boxplot"
   ]
  },
  {
   "cell_type": "markdown",
   "metadata": {},
   "source": [
    "A boxplot, also known as a box and whisker plot allows us to see minimum values, quartiles, maximum values, and concentrations of outliers in continuous variables. We can use boxplots to separate based on an another categorical variable. "
   ]
  },
  {
   "cell_type": "code",
   "execution_count": 88,
   "metadata": {},
   "outputs": [
    {
     "data": {
      "text/plain": [
       "Text(0.5, 1.0, 'Boxplot of Race vs. Stop Duration (with outliers)')"
      ]
     },
     "execution_count": 88,
     "metadata": {},
     "output_type": "execute_result"
    },
    {
     "data": {
      "image/png": "[encoded data removed]",
      "text/plain": [
       "<Figure size 1080x720 with 1 Axes>"
      ]
     },
     "metadata": {},
     "output_type": "display_data"
    }
   ],
   "source": [
    "# seaborn is another plotting package used to improve the visual quality of pyplot visualizations\n",
    "import seaborn as sns\n",
    "\n",
    "# like matplotlib, we can manually set the style of a seaborn plot\n",
    "sns.set_theme(style=\"whitegrid\")\n",
    "\n",
    "# set the size to 15x10\n",
    "plt.figure(figsize =(15,10))\n",
    "\n",
    "# plot the variable stop duration separated by race from dataset df_reduced \n",
    "ax = sns.boxplot(x=\"race\", y=\"stop_duration\", data=df_reduced)\n",
    "\n",
    "ax.set_xlabel('Race')\n",
    "ax.set_ylabel('Stop Duration')\n",
    "ax.set_title('Boxplot of Race vs. Stop Duration (with outliers)')"
   ]
  },
  {
   "cell_type": "markdown",
   "metadata": {},
   "source": [
    "Well, this doesn't tell us much. We can see that there are so many large outliers that the actual boxes and whiskers in our boxplot are squished towards the bottom. We can make this more usable by removing these outliers. First, let's take a look at the distribution of stop_duration by itself. "
   ]
  },
  {
   "cell_type": "code",
   "execution_count": 89,
   "metadata": {},
   "outputs": [
    {
     "data": {
      "text/plain": [
       "Text(0, 0.5, 'Count')"
      ]
     },
     "execution_count": 89,
     "metadata": {},
     "output_type": "execute_result"
    },
    {
     "data": {
      "image/png": "[encoded data removed]",
      "text/plain": [
       "<Figure size 720x720 with 1 Axes>"
      ]
     },
     "metadata": {},
     "output_type": "display_data"
    }
   ],
   "source": [
    "# 10 in by 10 in figure\n",
    "plt.figure(figsize =(10,10))\n",
    "\n",
    "# distplots are the name of the histogram plotting function in seaborn\n",
    "ax = sns.distplot(df_reduced.stop_duration, kde=False) # kde = false disables the kernel density line plotted over the histogram\n",
    "\n",
    "ax.set_title('Distribution of stop_duration')\n",
    "ax.set_ylabel('Count')"
   ]
  },
  {
   "cell_type": "markdown",
   "metadata": {},
   "source": [
    "# More Data Cleaning: Outliers"
   ]
  },
  {
   "cell_type": "markdown",
   "metadata": {},
   "source": [
    "We can see that this variable is not only skewed left, but values range from close to 0 to above 1400. While a value of 1400 minutes certainly seems like an outlier, but we can consult the Empirical Rule to be sure. \n",
    "\n",
    "Basically, the Empirical Rule, or the \"68, 95, 99.7 Rule,\" says the following:\n",
    "* About 68% of our data lies within one standard deviation of the mean value\n",
    "* About 95% of our data lies within two standard deviations of the mean value\n",
    "* About 99.7% of our data lies within three standard deviations of the mean value\n",
    "\n",
    "https://www.statisticshowto.com/empirical-rule-2/"
   ]
  },
  {
   "cell_type": "markdown",
   "metadata": {},
   "source": [
    "So, we can calculate the mean and standard deviation of our stop_duration data using numpy packages. Then, we can select all rows in our dataset where stop_duration is within 2 standard deviations of the mean and still be left with 95% of our data. \n",
    "\n",
    "Let's try it. "
   ]
  },
  {
   "cell_type": "code",
   "execution_count": 91,
   "metadata": {},
   "outputs": [],
   "source": [
    "# mean\n",
    "mean = np.mean(df_reduced.stop_duration)\n",
    "\n",
    "# standard deviation\n",
    "sd = np.std(df_reduced.stop_duration)\n",
    "\n",
    "\n",
    "# select all rows in the df_reduced dataset where stop duration is less than our mean plus 2 SDs and more than our mean minus 2 SDs\n",
    "df_duration_trimmed = df_reduced.loc[(df_reduced['stop_duration'] < mean + sd*2) & (df_reduced['stop_duration'] > mean - sd*2)]"
   ]
  },
  {
   "cell_type": "markdown",
   "metadata": {},
   "source": [
    "Looking at our new distribution. "
   ]
  },
  {
   "cell_type": "code",
   "execution_count": 92,
   "metadata": {},
   "outputs": [
    {
     "data": {
      "text/plain": [
       "Text(0, 0.5, 'Count')"
      ]
     },
     "execution_count": 92,
     "metadata": {},
     "output_type": "execute_result"
    },
    {
     "data": {
      "image/png": "[encoded data removed]",
      "text/plain": [
       "<Figure size 720x720 with 1 Axes>"
      ]
     },
     "metadata": {},
     "output_type": "display_data"
    }
   ],
   "source": [
    "plt.figure(figsize =(10,10))\n",
    "\n",
    "ax = sns.distplot(df_duration_trimmed.stop_duration, kde=False)\n",
    "\n",
    "ax.set_title('Distribution of stop_duration')\n",
    "ax.set_ylabel('Count')"
   ]
  },
  {
   "cell_type": "markdown",
   "metadata": {},
   "source": [
    "Creating another boxplot with our new data"
   ]
  },
  {
   "cell_type": "code",
   "execution_count": 93,
   "metadata": {},
   "outputs": [
    {
     "data": {
      "text/plain": [
       "Text(0.5, 1.0, 'Boxplot of Race vs. Stop Duration (without outliers)')"
      ]
     },
     "execution_count": 93,
     "metadata": {},
     "output_type": "execute_result"
    },
    {
     "data": {
      "image/png": "[encoded data removed]",
      "text/plain": [
       "<Figure size 1080x720 with 1 Axes>"
      ]
     },
     "metadata": {},
     "output_type": "display_data"
    }
   ],
   "source": [
    "plt.figure(figsize =(15,10))\n",
    "\n",
    "ax = sns.boxplot(x=\"race\", y=\"stop_duration\", data=df_duration_trimmed)\n",
    "\n",
    "ax.set_xlabel('Race')\n",
    "ax.set_ylabel('Stop Duration')\n",
    "ax.set_title('Boxplot of Race vs. Stop Duration (without outliers)')"
   ]
  },
  {
   "cell_type": "markdown",
   "metadata": {},
   "source": [
    "____\n",
    "**1-3 MIN BREAK**\n",
    "___"
   ]
  },
  {
   "cell_type": "markdown",
   "metadata": {},
   "source": [
    "# Feature Engineering\n",
    "Feature engineering is the manipulation or transformation of data into more usable \"features.\" Often, feature engineering is used in machine learning to give models more practical variables to train on with the goal of increasing accuracy.  \n",
    "\n",
    "Let's do a little more work on turning our continuous text variables to binary variables we can use in more in-depth analysis. \n",
    "\n",
    "Read more about feature engineering here:\n",
    "https://machinelearningmastery.com/discover-feature-engineering-how-to-engineer-features-and-how-to-get-good-at-it/"
   ]
  },
  {
   "cell_type": "markdown",
   "metadata": {},
   "source": [
    "## Transformation with skewed continuous variables\n",
    "Let's look at something else we can do to make stop_duration a bit more managable: transformation. Now, the type of transformation used depends on the type of skewness the variable exhibits. Here's a helpful resource: \n",
    "http://abacus.bates.edu/~ganderso/biology/bio270/homework_files/Data_Transformation.pdf"
   ]
  },
  {
   "cell_type": "markdown",
   "metadata": {},
   "source": [
    "Taking another look at the distribution of our original stop_duration variable, we can see that the distribution of this variable is quite positively (left) skewed. "
   ]
  },
  {
   "cell_type": "code",
   "execution_count": 94,
   "metadata": {},
   "outputs": [
    {
     "data": {
      "text/plain": [
       "Text(0, 0.5, 'Count')"
      ]
     },
     "execution_count": 94,
     "metadata": {},
     "output_type": "execute_result"
    },
    {
     "data": {
      "image/png": "[encoded data removed]",
      "text/plain": [
       "<Figure size 720x720 with 1 Axes>"
      ]
     },
     "metadata": {},
     "output_type": "display_data"
    }
   ],
   "source": [
    "plt.figure(figsize =(10,10))\n",
    "\n",
    "ax = sns.distplot(df_reduced.stop_duration, kde=False)\n",
    "\n",
    "ax.set_title('Distribution of stop_duration')\n",
    "ax.set_ylabel('Count')"
   ]
  },
  {
   "cell_type": "markdown",
   "metadata": {},
   "source": [
    "Let's try a logarithmic transformation to smooth out the distribution of the variable and bring it closer to normal. A close to normal distribution is crucial for many machine learning algorithms to function correctly. "
   ]
  },
  {
   "cell_type": "code",
   "execution_count": 95,
   "metadata": {},
   "outputs": [
    {
     "data": {
      "text/plain": [
       "Text(0, 0.5, 'Count')"
      ]
     },
     "execution_count": 95,
     "metadata": {},
     "output_type": "execute_result"
    },
    {
     "data": {
      "image/png": "[encoded data removed]",
      "text/plain": [
       "<Figure size 720x720 with 1 Axes>"
      ]
     },
     "metadata": {},
     "output_type": "display_data"
    }
   ],
   "source": [
    "# apply numpy function log() to automatically take the natural log of each value in stop_duration in the dataframe df_reduced\n",
    "duration_transformed = np.log(df_reduced.stop_duration)\n",
    "\n",
    "plt.figure(figsize =(10,10))\n",
    "\n",
    "ax = sns.distplot(duration_transformed, kde=False)\n",
    "\n",
    "ax.set_title('Distribution of stop_duration (with log transformation)')\n",
    "ax.set_ylabel('Count')"
   ]
  },
  {
   "cell_type": "markdown",
   "metadata": {},
   "source": [
    "That's much closer to the normal distribution we like to see. If we wanted to use this variable in a linear regression model, we could now do so safely. "
   ]
  },
  {
   "cell_type": "markdown",
   "metadata": {},
   "source": [
    "## Binarization\n",
    "https://deepai.org/machine-learning-glossary-and-terms/binarization\n",
    "\n",
    "Binarization is a method of feature engineering that turns categorical or continuous variables into 0s and 1s. Often, binarization is used to allow the use of classification algorithms. "
   ]
  },
  {
   "cell_type": "markdown",
   "metadata": {},
   "source": [
    "### Black\n",
    "Let's start with a simple one. We want to add a variable to our dataframe that is 1 if the motorist is Black and 0 if the motorist is any other race. First, we should look back on the distribution of stops across races. "
   ]
  },
  {
   "cell_type": "code",
   "execution_count": 96,
   "metadata": {},
   "outputs": [
    {
     "data": {
      "text/plain": [
       "White                            152082\n",
       "Hispanic/Latino/a                102862\n",
       "Black/African American            71069\n",
       "Asian                             17052\n",
       "Middle Eastern or South Asian      9415\n",
       "Pacific Islander                   2929\n",
       "Native American                     797\n",
       "Name: race, dtype: int64"
      ]
     },
     "execution_count": 96,
     "metadata": {},
     "output_type": "execute_result"
    }
   ],
   "source": [
    "df_reduced.race.value_counts()"
   ]
  },
  {
   "cell_type": "markdown",
   "metadata": {},
   "source": [
    "Now let's create that binary field. "
   ]
  },
  {
   "cell_type": "code",
   "execution_count": 97,
   "metadata": {},
   "outputs": [],
   "source": [
    "# define condition on which to operate\n",
    "condition = (df_reduced['race'] == 'Black/African American')\n",
    "\n",
    "# create new variable black and if condition is true, 1, if condition is false, 0\n",
    "df_reduced['black'] = np.where(condition, 1,0)"
   ]
  },
  {
   "cell_type": "markdown",
   "metadata": {},
   "source": [
    "What do we have now?"
   ]
  },
  {
   "cell_type": "code",
   "execution_count": 98,
   "metadata": {},
   "outputs": [
    {
     "data": {
      "text/plain": [
       "0    285137\n",
       "1     71069\n",
       "Name: black, dtype: int64"
      ]
     },
     "execution_count": 98,
     "metadata": {},
     "output_type": "execute_result"
    }
   ],
   "source": [
    "df_reduced.black.value_counts()"
   ]
  },
  {
   "cell_type": "markdown",
   "metadata": {},
   "source": [
    "We can now see that 285,135 motorists stopped by SDPD are not black, and 71,069 are Black. Looking at this statistic by itself you may be tempted to conclude that Blacks are stopped less frequently than Whites, which is true. However, we need to remember that proportionately, Whites make up a much larger portion of SD City's population, so this is to be expected. "
   ]
  },
  {
   "cell_type": "markdown",
   "metadata": {},
   "source": [
    "### Male"
   ]
  },
  {
   "cell_type": "markdown",
   "metadata": {},
   "source": [
    "Now, let's do the same thing with the gender variable and create a 'male' binary field."
   ]
  },
  {
   "cell_type": "code",
   "execution_count": 99,
   "metadata": {},
   "outputs": [
    {
     "data": {
      "text/plain": [
       "Male                      259300\n",
       "Female                     95818\n",
       "Transgender man/boy          569\n",
       "Transgender woman/girl       415\n",
       "Name: gender, dtype: int64"
      ]
     },
     "execution_count": 99,
     "metadata": {},
     "output_type": "execute_result"
    }
   ],
   "source": [
    "df_reduced.gender.value_counts()"
   ]
  },
  {
   "cell_type": "code",
   "execution_count": 100,
   "metadata": {},
   "outputs": [],
   "source": [
    "# define condition by selecting those who are labeled as 'male' OR ( | ) 'transgender men/boys'\n",
    "condition = (df_reduced['gender'] == 'Male') | (df_reduced['gender'] == 'Transgender man/boy')\n",
    "\n",
    "# create new male variable\n",
    "df_reduced['male'] = np.where(condition, 1,0)"
   ]
  },
  {
   "cell_type": "markdown",
   "metadata": {},
   "source": [
    "Looking at our work..."
   ]
  },
  {
   "cell_type": "code",
   "execution_count": 101,
   "metadata": {},
   "outputs": [
    {
     "data": {
      "text/plain": [
       "1    259869\n",
       "0     96337\n",
       "Name: male, dtype: int64"
      ]
     },
     "execution_count": 101,
     "metadata": {},
     "output_type": "execute_result"
    }
   ],
   "source": [
    "df_reduced.male.value_counts()"
   ]
  },
  {
   "cell_type": "markdown",
   "metadata": {},
   "source": [
    "*Note: for the purposes of this workshop, we are assuming that transgender men/boys identify as males. Thus, we will add them to the male category. Transgender women/girls will be treated as women. This is not meant to erase anyone's identity, just provide an example of a common application of binarization.*"
   ]
  },
  {
   "cell_type": "markdown",
   "metadata": {},
   "source": [
    "### Disabled"
   ]
  },
  {
   "cell_type": "markdown",
   "metadata": {},
   "source": [
    "Lastly, let's also create a binary variable for presence of a disability. "
   ]
  },
  {
   "cell_type": "code",
   "execution_count": 102,
   "metadata": {},
   "outputs": [
    {
     "data": {
      "text/plain": [
       "None                                                            339692\n",
       "Mental health condition                                          11949\n",
       "Other disability                                                  2022\n",
       "Intellectual or developmental disability, including dementia       944\n",
       "Speech impairment or limited use of language                       710\n",
       "Deafness or difficulty hearing                                     559\n",
       "Blind or limited vision                                            325\n",
       "Disability related to hyperactivity or impulsive behavior            5\n",
       "Name: disability, dtype: int64"
      ]
     },
     "execution_count": 102,
     "metadata": {},
     "output_type": "execute_result"
    }
   ],
   "source": [
    "df_reduced.disability.value_counts()"
   ]
  },
  {
   "cell_type": "code",
   "execution_count": 103,
   "metadata": {},
   "outputs": [],
   "source": [
    "# create disabled binary field\n",
    "condition = (df_reduced['disability'] == 'None')\n",
    "df_reduced['disabled'] = np.where(condition, 0,1)"
   ]
  },
  {
   "cell_type": "code",
   "execution_count": 104,
   "metadata": {},
   "outputs": [
    {
     "data": {
      "text/plain": [
       "0    339692\n",
       "1     16514\n",
       "Name: disabled, dtype: int64"
      ]
     },
     "execution_count": 104,
     "metadata": {},
     "output_type": "execute_result"
    }
   ],
   "source": [
    "df_reduced.disabled.value_counts()"
   ]
  },
  {
   "cell_type": "markdown",
   "metadata": {},
   "source": [
    "### Our Final Product:"
   ]
  },
  {
   "cell_type": "code",
   "execution_count": 107,
   "metadata": {},
   "outputs": [
    {
     "data": {
      "text/html": [
       "<div>\n",
       "<style scoped>\n",
       "    .dataframe tbody tr th:only-of-type {\n",
       "        vertical-align: middle;\n",
       "    }\n",
       "\n",
       "    .dataframe tbody tr th {\n",
       "        vertical-align: top;\n",
       "    }\n",
       "\n",
       "    .dataframe thead th {\n",
       "        text-align: right;\n",
       "    }\n",
       "</style>\n",
       "<table border=\"1\" class=\"dataframe\">\n",
       "  <thead>\n",
       "    <tr style=\"text-align: right;\">\n",
       "      <th></th>\n",
       "      <th>race</th>\n",
       "      <th>black</th>\n",
       "      <th>disability</th>\n",
       "      <th>disabled</th>\n",
       "      <th>gender</th>\n",
       "      <th>male</th>\n",
       "    </tr>\n",
       "  </thead>\n",
       "  <tbody>\n",
       "    <tr>\n",
       "      <th>50764</th>\n",
       "      <td>Hispanic/Latino/a</td>\n",
       "      <td>0</td>\n",
       "      <td>None</td>\n",
       "      <td>0</td>\n",
       "      <td>Male</td>\n",
       "      <td>1</td>\n",
       "    </tr>\n",
       "    <tr>\n",
       "      <th>53818</th>\n",
       "      <td>White</td>\n",
       "      <td>0</td>\n",
       "      <td>Mental health condition</td>\n",
       "      <td>1</td>\n",
       "      <td>Male</td>\n",
       "      <td>1</td>\n",
       "    </tr>\n",
       "    <tr>\n",
       "      <th>183186</th>\n",
       "      <td>Hispanic/Latino/a</td>\n",
       "      <td>0</td>\n",
       "      <td>None</td>\n",
       "      <td>0</td>\n",
       "      <td>Female</td>\n",
       "      <td>0</td>\n",
       "    </tr>\n",
       "    <tr>\n",
       "      <th>9004</th>\n",
       "      <td>Black/African American</td>\n",
       "      <td>1</td>\n",
       "      <td>None</td>\n",
       "      <td>0</td>\n",
       "      <td>Male</td>\n",
       "      <td>1</td>\n",
       "    </tr>\n",
       "    <tr>\n",
       "      <th>187533</th>\n",
       "      <td>White</td>\n",
       "      <td>0</td>\n",
       "      <td>None</td>\n",
       "      <td>0</td>\n",
       "      <td>Male</td>\n",
       "      <td>1</td>\n",
       "    </tr>\n",
       "    <tr>\n",
       "      <th>178687</th>\n",
       "      <td>Black/African American</td>\n",
       "      <td>1</td>\n",
       "      <td>None</td>\n",
       "      <td>0</td>\n",
       "      <td>Male</td>\n",
       "      <td>1</td>\n",
       "    </tr>\n",
       "    <tr>\n",
       "      <th>85173</th>\n",
       "      <td>Black/African American</td>\n",
       "      <td>1</td>\n",
       "      <td>None</td>\n",
       "      <td>0</td>\n",
       "      <td>Male</td>\n",
       "      <td>1</td>\n",
       "    </tr>\n",
       "    <tr>\n",
       "      <th>194092</th>\n",
       "      <td>Black/African American</td>\n",
       "      <td>1</td>\n",
       "      <td>None</td>\n",
       "      <td>0</td>\n",
       "      <td>Male</td>\n",
       "      <td>1</td>\n",
       "    </tr>\n",
       "    <tr>\n",
       "      <th>51532</th>\n",
       "      <td>White</td>\n",
       "      <td>0</td>\n",
       "      <td>None</td>\n",
       "      <td>0</td>\n",
       "      <td>Female</td>\n",
       "      <td>0</td>\n",
       "    </tr>\n",
       "    <tr>\n",
       "      <th>267978</th>\n",
       "      <td>White</td>\n",
       "      <td>0</td>\n",
       "      <td>None</td>\n",
       "      <td>0</td>\n",
       "      <td>Female</td>\n",
       "      <td>0</td>\n",
       "    </tr>\n",
       "  </tbody>\n",
       "</table>\n",
       "</div>"
      ],
      "text/plain": [
       "                          race  black               disability  disabled  \\\n",
       "50764        Hispanic/Latino/a      0                     None         0   \n",
       "53818                    White      0  Mental health condition         1   \n",
       "183186       Hispanic/Latino/a      0                     None         0   \n",
       "9004    Black/African American      1                     None         0   \n",
       "187533                   White      0                     None         0   \n",
       "178687  Black/African American      1                     None         0   \n",
       "85173   Black/African American      1                     None         0   \n",
       "194092  Black/African American      1                     None         0   \n",
       "51532                    White      0                     None         0   \n",
       "267978                   White      0                     None         0   \n",
       "\n",
       "        gender  male  \n",
       "50764     Male     1  \n",
       "53818     Male     1  \n",
       "183186  Female     0  \n",
       "9004      Male     1  \n",
       "187533    Male     1  \n",
       "178687    Male     1  \n",
       "85173     Male     1  \n",
       "194092    Male     1  \n",
       "51532   Female     0  \n",
       "267978  Female     0  "
      ]
     },
     "execution_count": 107,
     "metadata": {},
     "output_type": "execute_result"
    }
   ],
   "source": [
    "df_reduced[['race', 'black', 'disability', 'disabled', 'gender', 'male']].sample(10)"
   ]
  },
  {
   "cell_type": "markdown",
   "metadata": {},
   "source": [
    "## Why is this helpful? \n",
    "Now, we have 3 variables where 1 signals the presence of that condition, and 0 signals the lack of that condition in the instance. This is not only a bit easier to understand due to the generalizations we've made, but also allows for these categorical variables to be used in classification exercises. "
   ]
  },
  {
   "cell_type": "markdown",
   "metadata": {},
   "source": [
    "___\n",
    "**1-3 MIN BREAK**\n",
    "___"
   ]
  },
  {
   "cell_type": "markdown",
   "metadata": {},
   "source": [
    "# Wrapping Up"
   ]
  },
  {
   "cell_type": "markdown",
   "metadata": {},
   "source": [
    "Let's put together a list of things that we learned from our dataset and use our new binarized subset to draw some conclusions."
   ]
  },
  {
   "cell_type": "markdown",
   "metadata": {},
   "source": [
    "## Stops By Race"
   ]
  },
  {
   "cell_type": "markdown",
   "metadata": {},
   "source": [
    "* Blacks only make up 6.5% of SD City population but account for 20% of all stops by SDPD"
   ]
  },
  {
   "cell_type": "code",
   "execution_count": 108,
   "metadata": {},
   "outputs": [
    {
     "data": {
      "text/html": [
       "<div>\n",
       "<style scoped>\n",
       "    .dataframe tbody tr th:only-of-type {\n",
       "        vertical-align: middle;\n",
       "    }\n",
       "\n",
       "    .dataframe tbody tr th {\n",
       "        vertical-align: top;\n",
       "    }\n",
       "\n",
       "    .dataframe thead th {\n",
       "        text-align: right;\n",
       "    }\n",
       "</style>\n",
       "<table border=\"1\" class=\"dataframe\">\n",
       "  <thead>\n",
       "    <tr style=\"text-align: right;\">\n",
       "      <th></th>\n",
       "      <th>Race</th>\n",
       "      <th>Stops</th>\n",
       "      <th>% of Total</th>\n",
       "    </tr>\n",
       "  </thead>\n",
       "  <tbody>\n",
       "    <tr>\n",
       "      <th>0</th>\n",
       "      <td>White</td>\n",
       "      <td>152082</td>\n",
       "      <td>42.70</td>\n",
       "    </tr>\n",
       "    <tr>\n",
       "      <th>1</th>\n",
       "      <td>Hispanic/Latino/a</td>\n",
       "      <td>102862</td>\n",
       "      <td>28.88</td>\n",
       "    </tr>\n",
       "    <tr>\n",
       "      <th>2</th>\n",
       "      <td>Black/African American</td>\n",
       "      <td>71069</td>\n",
       "      <td>19.95</td>\n",
       "    </tr>\n",
       "    <tr>\n",
       "      <th>3</th>\n",
       "      <td>Asian</td>\n",
       "      <td>17052</td>\n",
       "      <td>4.79</td>\n",
       "    </tr>\n",
       "    <tr>\n",
       "      <th>4</th>\n",
       "      <td>Middle Eastern or South Asian</td>\n",
       "      <td>9415</td>\n",
       "      <td>2.64</td>\n",
       "    </tr>\n",
       "    <tr>\n",
       "      <th>5</th>\n",
       "      <td>Pacific Islander</td>\n",
       "      <td>2929</td>\n",
       "      <td>0.82</td>\n",
       "    </tr>\n",
       "    <tr>\n",
       "      <th>6</th>\n",
       "      <td>Native American</td>\n",
       "      <td>797</td>\n",
       "      <td>0.22</td>\n",
       "    </tr>\n",
       "  </tbody>\n",
       "</table>\n",
       "</div>"
      ],
      "text/plain": [
       "                            Race   Stops  % of Total\n",
       "0                          White  152082       42.70\n",
       "1              Hispanic/Latino/a  102862       28.88\n",
       "2         Black/African American   71069       19.95\n",
       "3                          Asian   17052        4.79\n",
       "4  Middle Eastern or South Asian    9415        2.64\n",
       "5               Pacific Islander    2929        0.82\n",
       "6                Native American     797        0.22"
      ]
     },
     "execution_count": 108,
     "metadata": {},
     "output_type": "execute_result"
    }
   ],
   "source": [
    "# copying block from above pre-histogram\n",
    "from collections import Counter\n",
    "values = df_reduced['race']\n",
    "counts = Counter(values)\n",
    " \n",
    "stopsByRace = pd.DataFrame(counts.most_common(), columns = ['Race', 'Stops'])\n",
    "stopsByRace['% of Total'] = round(stopsByRace.Stops/356204*100, 2)\n",
    "\n",
    "stopsByRace"
   ]
  },
  {
   "cell_type": "markdown",
   "metadata": {},
   "source": [
    "## Stops by Race and Gender"
   ]
  },
  {
   "cell_type": "markdown",
   "metadata": {},
   "source": [
    "* Out of 356204 stops, approx. 73% are male\n",
    "* Out of those 73% male, 21% are Black"
   ]
  },
  {
   "cell_type": "code",
   "execution_count": 109,
   "metadata": {},
   "outputs": [
    {
     "name": "stdout",
     "output_type": "stream",
     "text": [
      "total stops:  356206\n",
      "male:         259869 72.95 %\n",
      "black males:   55182 21.23 %\n"
     ]
    }
   ],
   "source": [
    "# find total # of stops\n",
    "total = len(df_reduced.index)\n",
    "\n",
    "# find total stops who involving black motorists\n",
    "black = df_reduced.stop_duration.loc[(df_reduced['black'] == 1)].count()\n",
    "\n",
    "# find total stops who were male\n",
    "male = df_reduced.stop_duration.loc[(df_reduced['male'] == 1)].count()\n",
    "\n",
    "#find total stops who were black and male\n",
    "blackMale = df_reduced.stop_duration.loc[(df_reduced['black'] == 1) & (df_reduced['male'] == 1)].count()\n",
    "\n",
    "print('total stops: ', total)\n",
    "print('male:        ', male, round(male/total*100, 2), '%')\n",
    "print('black males:  ', blackMale, round(blackMale/male*100, 2), '%')"
   ]
  },
  {
   "cell_type": "markdown",
   "metadata": {},
   "source": [
    "## Stops by Disability Status"
   ]
  },
  {
   "cell_type": "markdown",
   "metadata": {},
   "source": [
    "* Stops involving disabled persons are over twice as long on average"
   ]
  },
  {
   "cell_type": "code",
   "execution_count": 111,
   "metadata": {},
   "outputs": [
    {
     "name": "stdout",
     "output_type": "stream",
     "text": [
      "Average Duration of Stop for Non-Disabled Persons:  26.83 min.\n",
      "Average Duration of Stop for Disabled Persons:  54.73 min.\n"
     ]
    }
   ],
   "source": [
    "print('Average Duration of Stop for Non-Disabled Persons: ', round(df_reduced.stop_duration.loc[df_reduced['disabled'] == 0].mean(), 2), 'min.')\n",
    "print('Average Duration of Stop for Disabled Persons: ', round(df_reduced.stop_duration.loc[df_reduced['disabled'] == 1].mean(), 2), 'min.')"
   ]
  },
  {
   "cell_type": "markdown",
   "metadata": {},
   "source": [
    "___"
   ]
  },
  {
   "cell_type": "markdown",
   "metadata": {},
   "source": [
    "# Assignment\n"
   ]
  },
  {
   "cell_type": "markdown",
   "metadata": {},
   "source": [
    "1. Would you recommend using a transformation on the variable \"perceived_age\"? Why or why not?"
   ]
  },
  {
   "cell_type": "code",
   "execution_count": null,
   "metadata": {},
   "outputs": [],
   "source": [
    "# Run your code here"
   ]
  },
  {
   "cell_type": "markdown",
   "metadata": {},
   "source": [
    "Answer here."
   ]
  },
  {
   "cell_type": "markdown",
   "metadata": {},
   "source": [
    "2. Create a boxplot comparing perceived_age to race. What do you see?"
   ]
  },
  {
   "cell_type": "code",
   "execution_count": null,
   "metadata": {},
   "outputs": [],
   "source": [
    "# run your code here"
   ]
  },
  {
   "cell_type": "markdown",
   "metadata": {},
   "source": [
    "Answer here."
   ]
  },
  {
   "cell_type": "markdown",
   "metadata": {},
   "source": [
    "3. Find the mean perceived age for every value of 'result' and sort the output descending by age. \n",
    "    \n",
    "    *Hint: for this one, look into the groupby pandas function: https://pandas.pydata.org/pandas-docs/stable/reference/api/pandas.DataFrame.groupby.html*"
   ]
  },
  {
   "cell_type": "code",
   "execution_count": null,
   "metadata": {},
   "outputs": [],
   "source": [
    "# Run your code here. (The output of this block will be your answer.)"
   ]
  }
 ],
 "metadata": {
  "kernelspec": {
   "display_name": "Python 3",
   "language": "python",
   "name": "python3"
  },
  "language_info": {
   "codemirror_mode": {
    "name": "ipython",
    "version": 3
   },
   "file_extension": ".py",
   "mimetype": "text/x-python",
   "name": "python",
   "nbconvert_exporter": "python",
   "pygments_lexer": "ipython3",
   "version": "3.7.5"
  }
 },
 "nbformat": 4,
 "nbformat_minor": 4
}
